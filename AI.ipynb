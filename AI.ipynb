{
 "cells": [
  {
   "cell_type": "code",
   "execution_count": null,
   "id": "47c48438-75d5-4fa8-89f8-a4e4f373a83d",
   "metadata": {},
   "outputs": [],
   "source": [
    "import pandas as pd\n",
    "import requests\n",
    "from bs4 import BeautifulSoup\n",
    "import time"
   ]
  },
  {
   "cell_type": "code",
   "execution_count": null,
   "id": "f46c6f7b-3b9c-49d3-9199-f76fac8f4334",
   "metadata": {},
   "outputs": [],
   "source": [
    "url = 'https://coinmarketcap.com/view/ai-big-data/'"
   ]
  },
  {
   "cell_type": "code",
   "execution_count": 4,
   "id": "556f19cf-3730-4a3e-a437-29df0cf86d35",
   "metadata": {},
   "outputs": [],
   "source": [
    "r = requests.get(url)"
   ]
  },
  {
   "cell_type": "code",
   "execution_count": null,
   "id": "e4834753-1de2-44fb-b792-4704e1aa1f2e",
   "metadata": {},
   "outputs": [],
   "source": [
    "Soup = BeautifulSoup(r.text, 'lxml')\n",
    "Soup"
   ]
  },
  {
   "cell_type": "code",
   "execution_count": 6,
   "id": "a201d95b-08cb-4812-9922-e40d1775e1de",
   "metadata": {},
   "outputs": [
    {
     "data": {
      "text/plain": [
       "[<table class=\"sc-14cb040a-3 dsflYb cmc-table\"><colgroup><col/><col style=\"width:50px;min-width:auto;max-width:auto\"/><col style=\"width:250px;min-width:auto;max-width:auto\"/><col/><col style=\"width:84px;min-width:auto;max-width:auto\"/><col style=\"width:84px;min-width:auto;max-width:auto\"/><col style=\"width:84px;min-width:auto;max-width:auto\"/><col style=\"width:200px;min-width:auto;max-width:auto\"/><col style=\"width:200px;min-width:auto;max-width:auto\"/><col style=\"width:200px;min-width:auto;max-width:auto\"/><col/></colgroup><thead><tr><th class=\"stickyTop\"></th><th class=\"stickyTop\" style=\"text-align:start\"><div class=\"sc-77ac5b56-0 eKOoHe sortable-header-container\"><div class=\"sc-77ac5b56-1 jMGmXE\"><p class=\"sc-4984dd93-0 fiHcNM rank-column-title\" color=\"text\" data-sensors-click=\"true\" font-size=\"0\">#</p><span class=\"sc-77ac5b56-2 dLEXCr icon-wrapper\"><span class=\"icon-Caret-up\"></span></span></div></div></th><th class=\"stickyTop\" style=\"text-align:start\"><div class=\"sc-77ac5b56-0 eKOoHe sortable-header-container\"><div class=\"sc-77ac5b56-1 jMGmXE\"><p class=\"sc-4984dd93-0 fiHcNM\" color=\"text\" data-sensors-click=\"true\" font-size=\"0\">Name</p><span class=\"sc-77ac5b56-2 dLEXCr icon-wrapper\"></span></div></div></th><th class=\"stickyTop\" style=\"text-align:end\"><div class=\"sc-77ac5b56-0 gKYVgp sortable-header-container\"><div class=\"sc-77ac5b56-1 jMGmXE\"><span class=\"sc-77ac5b56-2 dLEXCr icon-wrapper\"></span><p class=\"sc-4984dd93-0 fiHcNM\" color=\"text\" data-sensors-click=\"true\" font-size=\"0\">Price</p></div></div></th><th class=\"stickyTop\" style=\"text-align:end\"><div class=\"sc-77ac5b56-0 gKYVgp sortable-header-container\"><div class=\"sc-77ac5b56-1 jMGmXE\"><span class=\"sc-77ac5b56-2 dLEXCr icon-wrapper\"></span><p class=\"sc-4984dd93-0 fiHcNM\" color=\"text\" data-sensors-click=\"true\" font-size=\"0\">1h %</p></div></div></th><th class=\"stickyTop\" style=\"text-align:end\"><div class=\"sc-77ac5b56-0 gKYVgp sortable-header-container\"><div class=\"sc-77ac5b56-1 jMGmXE\"><span class=\"sc-77ac5b56-2 dLEXCr icon-wrapper\"></span><p class=\"sc-4984dd93-0 fiHcNM\" color=\"text\" data-sensors-click=\"true\" font-size=\"0\">24h %</p></div></div></th><th class=\"stickyTop\" style=\"text-align:end\"><div class=\"sc-77ac5b56-0 gKYVgp sortable-header-container\"><div class=\"sc-77ac5b56-1 jMGmXE\"><span class=\"sc-77ac5b56-2 dLEXCr icon-wrapper\"></span><p class=\"sc-4984dd93-0 fiHcNM\" color=\"text\" data-sensors-click=\"true\" font-size=\"0\">7d %</p></div></div></th><th class=\"stickyTop\" style=\"text-align:end\"><div class=\"sc-77ac5b56-0 gKYVgp sortable-header-container\"><div class=\"sc-77ac5b56-1 jMGmXE\"><span class=\"sc-77ac5b56-2 dLEXCr icon-wrapper\"></span><p class=\"sc-4984dd93-0 fiHcNM\" color=\"text\" data-sensors-click=\"true\" font-size=\"0\">Market Cap</p></div><div class=\"sc-5d5d9567-2 gumfse\"><svg class=\"sc-aef7b723-0 qBTCi\" color=\"neutral4\" fill=\"currentColor\" height=\"16\" viewbox=\"0 0 24 24\" width=\"16\" xmlns=\"http://www.w3.org/2000/svg\"><path d=\"M12 2C6.48583 2 2 6.48583 2 12C2 17.5142 6.48583 22 12 22C17.5142 22 22 17.5142 22 12C22 6.48583 17.5142 2 12 2ZM14.215 17.2367C13.6642 17.4533 11.755 18.365 10.655 17.3958C10.3267 17.1075 10.1633 16.7417 10.1633 16.2975C10.1633 15.4658 10.4367 14.7408 10.9292 13C11.0158 12.6708 11.1217 12.2442 11.1217 11.9058C11.1217 11.3217 10.9 11.1667 10.2992 11.1667C10.0058 11.1667 9.68083 11.2708 9.38667 11.3808L9.54917 10.715C10.205 10.4483 11.0283 10.1233 11.7333 10.1233C12.7908 10.1233 13.5692 10.6508 13.5692 11.6542C13.5692 11.9433 13.5192 12.45 13.4142 12.8L12.8058 14.9517C12.68 15.3867 12.4525 16.3458 12.805 16.63C13.1517 16.9108 13.9725 16.7617 14.3775 16.5708L14.215 17.2367ZM13.21 8.66667C12.52 8.66667 11.96 8.10667 11.96 7.41667C11.96 6.72667 12.52 6.16667 13.21 6.16667C13.9 6.16667 14.46 6.72667 14.46 7.41667C14.46 8.10667 13.9 8.66667 13.21 8.66667Z\"></path></svg></div></div></th><th class=\"stickyTop\" style=\"text-align:end\"><div class=\"sc-77ac5b56-0 gKYVgp sortable-header-container\"><div class=\"sc-77ac5b56-1 jMGmXE\"><span class=\"sc-77ac5b56-2 dLEXCr icon-wrapper\"></span><p class=\"sc-4984dd93-0 fiHcNM\" color=\"text\" data-sensors-click=\"true\" font-size=\"0\">Volume(24h)</p></div><div class=\"sc-5d5d9567-2 gumfse\"><svg class=\"sc-aef7b723-0 qBTCi\" color=\"neutral4\" fill=\"currentColor\" height=\"16\" viewbox=\"0 0 24 24\" width=\"16\" xmlns=\"http://www.w3.org/2000/svg\"><path d=\"M12 2C6.48583 2 2 6.48583 2 12C2 17.5142 6.48583 22 12 22C17.5142 22 22 17.5142 22 12C22 6.48583 17.5142 2 12 2ZM14.215 17.2367C13.6642 17.4533 11.755 18.365 10.655 17.3958C10.3267 17.1075 10.1633 16.7417 10.1633 16.2975C10.1633 15.4658 10.4367 14.7408 10.9292 13C11.0158 12.6708 11.1217 12.2442 11.1217 11.9058C11.1217 11.3217 10.9 11.1667 10.2992 11.1667C10.0058 11.1667 9.68083 11.2708 9.38667 11.3808L9.54917 10.715C10.205 10.4483 11.0283 10.1233 11.7333 10.1233C12.7908 10.1233 13.5692 10.6508 13.5692 11.6542C13.5692 11.9433 13.5192 12.45 13.4142 12.8L12.8058 14.9517C12.68 15.3867 12.4525 16.3458 12.805 16.63C13.1517 16.9108 13.9725 16.7617 14.3775 16.5708L14.215 17.2367ZM13.21 8.66667C12.52 8.66667 11.96 8.10667 11.96 7.41667C11.96 6.72667 12.52 6.16667 13.21 6.16667C13.9 6.16667 14.46 6.72667 14.46 7.41667C14.46 8.10667 13.9 8.66667 13.21 8.66667Z\"></path></svg></div></div></th><th class=\"stickyTop\" style=\"text-align:end\"><div class=\"sc-77ac5b56-0 gKYVgp sortable-header-container\"><div class=\"sc-77ac5b56-1 jMGmXE\"><span class=\"sc-77ac5b56-2 dLEXCr icon-wrapper\"></span><p class=\"sc-4984dd93-0 fiHcNM\" color=\"text\" data-sensors-click=\"true\" font-size=\"0\">Circulating Supply</p></div><div class=\"sc-5d5d9567-2 gumfse\"><span class=\"icon-Info\"></span></div></div></th><th class=\"stickyTop\" style=\"text-align:end\"><p class=\"sc-4984dd93-0 jZrMxO\" color=\"text\" data-sensors-click=\"true\" font-size=\"1\" style=\"font-size:12px\">Last 7 Days</p></th></tr></thead><tbody><tr style=\"cursor:pointer\"><td><span class=\"tooltip tooltip-right\" data-text=\"Add to Main Watchlist\"><span class=\"icon-Star\" style=\"color:var(--color-light-neutral-4)\"></span></span></td><td style=\"text-align:start\"><p class=\"sc-4984dd93-0 iWSjWE\" color=\"text2\" data-sensors-click=\"true\" font-size=\"14\">18</p></td><td style=\"text-align:start\"><div class=\"sc-aef7b723-0 LCOyB\" display=\"flex\"><a class=\"cmc-link\" href=\"/currencies/near-protocol/\"><div class=\"sc-aef7b723-0 sc-adbfcfff-0 eLtPTk\" data-sensors-click=\"true\"><img alt=\"NEAR logo\" class=\"coin-logo\" decoding=\"async\" fetchpriority=\"low\" loading=\"lazy\" src=\"https://s2.coinmarketcap.com/static/img/coins/64x64/6535.png\"/><div class=\"sc-aef7b723-0 sc-adbfcfff-1 klolJt\"><div class=\"sc-aef7b723-0 sc-adbfcfff-2 iOUohe hide-ranking-number\"><p class=\"sc-4984dd93-0 kKpPOn\" color=\"text\" data-sensors-click=\"true\" font-size=\"1\" font-weight=\"semibold\">NEAR Protocol</p><div class=\"sc-adbfcfff-3 dDrhas\" data-nosnippet=\"true\"><p class=\"sc-4984dd93-0 iqdbQL coin-item-symbol\" color=\"text3\" data-sensors-click=\"true\" font-size=\"1\">NEAR</p></div></div></div></div></a></div></td><td style=\"text-align:end\"><div class=\"sc-500f568e-0 ejtlWy\"><a class=\"cmc-link\" href=\"/currencies/near-protocol/#markets\"><span>$7.23</span></a></div></td><td style=\"text-align:end\"><span class=\"sc-6a54057-0 YXxPZ\"><span class=\"icon-Caret-up\" style=\"width:12px;height:18px;display:inline-block\"></span>2.11%</span></td><td style=\"text-align:end\"><span class=\"sc-6a54057-0 YXxPZ\"><span class=\"icon-Caret-up\" style=\"width:12px;height:18px;display:inline-block\"></span>3.44%</span></td><td style=\"text-align:end\"><span class=\"sc-6a54057-0 YXxPZ\"><span class=\"icon-Caret-up\" style=\"width:12px;height:18px;display:inline-block\"></span>8.54%</span></td><td style=\"text-align:end\"><p class=\"sc-4984dd93-0 jZrMxO\" color=\"text\" data-sensors-click=\"true\" font-size=\"1\" style=\"white-space:nowrap\"><span class=\"sc-7bc56c81-0 dCzASk\">$7.67B</span><span class=\"sc-7bc56c81-1 bCdPBp\" data-nosnippet=\"true\">$7,666,897,106</span></p></td><td style=\"text-align:end\"><div class=\"sc-aef7b723-0 sc-97d9abce-0 eGkfri\"><a class=\"cmc-link\" href=\"/currencies/near-protocol/#markets\"><p class=\"sc-4984dd93-0 jZrMxO font_weight_500\" color=\"text\" data-sensors-click=\"true\" font-size=\"1\">$471,434,355</p></a><div data-nosnippet=\"true\"><p class=\"sc-4984dd93-0 ihZPK\" color=\"text2\" data-sensors-click=\"true\" font-size=\"0\">65,223,181 NEAR</p></div></div></td><td style=\"text-align:end\"><div class=\"sc-aef7b723-0 sc-e8f714de-0 cELvic\" data-sensors-click=\"true\" style=\"cursor:\"><div class=\"sc-aef7b723-0 sc-e8f714de-1 hSniWt\"><p class=\"sc-4984dd93-0 WfVLk\" color=\"text\" data-sensors-click=\"true\" font-size=\"1\" font-weight=\"medium\">1,060,719,078 NEAR</p></div></div></td><td style=\"text-align:end\"><a class=\"cmc-link\" href=\"/currencies/near-protocol/\"><img alt=\"near-protocol-7d-price-graph\" class=\"sc-14cb040a-0 dmOeak isUp\" loading=\"lazy\" src=\"https://s3.coinmarketcap.com/generated/sparklines/web/7d/2781/6535.svg\"/></a></td></tr><tr style=\"cursor:pointer\"><td><span class=\"tooltip tooltip-right\" data-text=\"Add to Main Watchlist\"><span class=\"icon-Star\" style=\"color:var(--color-light-neutral-4)\"></span></span></td><td style=\"text-align:start\"><p class=\"sc-4984dd93-0 iWSjWE\" color=\"text2\" data-sensors-click=\"true\" font-size=\"14\">30</p></td><td style=\"text-align:start\"><div class=\"sc-aef7b723-0 LCOyB\" display=\"flex\"><a class=\"cmc-link\" href=\"/currencies/bittensor/\"><div class=\"sc-aef7b723-0 sc-adbfcfff-0 eLtPTk\" data-sensors-click=\"true\"><img alt=\"TAO logo\" class=\"coin-logo\" decoding=\"async\" fetchpriority=\"low\" loading=\"lazy\" src=\"https://s2.coinmarketcap.com/static/img/coins/64x64/22974.png\"/><div class=\"sc-aef7b723-0 sc-adbfcfff-1 klolJt\"><div class=\"sc-aef7b723-0 sc-adbfcfff-2 iOUohe hide-ranking-number\"><p class=\"sc-4984dd93-0 kKpPOn\" color=\"text\" data-sensors-click=\"true\" font-size=\"1\" font-weight=\"semibold\">Bittensor</p><div class=\"sc-adbfcfff-3 dDrhas\" data-nosnippet=\"true\"><p class=\"sc-4984dd93-0 iqdbQL coin-item-symbol\" color=\"text3\" data-sensors-click=\"true\" font-size=\"1\">TAO</p></div></div></div></div></a></div></td><td style=\"text-align:end\"><div class=\"sc-500f568e-0 ejtlWy\"><a class=\"cmc-link\" href=\"/currencies/bittensor/#markets\"><span>$623.68</span></a></div></td><td style=\"text-align:end\"><span class=\"sc-6a54057-0 iEhQde\"><span class=\"icon-Caret-down\" style=\"width:12px;height:18px;display:inline-block\"></span>7.40%</span></td><td style=\"text-align:end\"><span class=\"sc-6a54057-0 iEhQde\"><span class=\"icon-Caret-down\" style=\"width:12px;height:18px;display:inline-block\"></span>2.13%</span></td><td style=\"text-align:end\"><span class=\"sc-6a54057-0 YXxPZ\"><span class=\"icon-Caret-up\" style=\"width:12px;height:18px;display:inline-block\"></span>6.20%</span></td><td style=\"text-align:end\"><p class=\"sc-4984dd93-0 jZrMxO\" color=\"text\" data-sensors-click=\"true\" font-size=\"1\" style=\"white-space:nowrap\"><span class=\"sc-7bc56c81-0 dCzASk\">$4.1B</span><span class=\"sc-7bc56c81-1 bCdPBp\" data-nosnippet=\"true\">$4,101,288,846</span></p></td><td style=\"text-align:end\"><div class=\"sc-aef7b723-0 sc-97d9abce-0 eGkfri\"><a class=\"cmc-link\" href=\"/currencies/bittensor/#markets\"><p class=\"sc-4984dd93-0 jZrMxO font_weight_500\" color=\"text\" data-sensors-click=\"true\" font-size=\"1\">$94,869,564</p></a><div data-nosnippet=\"true\"><p class=\"sc-4984dd93-0 ihZPK\" color=\"text2\" data-sensors-click=\"true\" font-size=\"0\">152,113 TAO</p></div></div></td><td style=\"text-align:end\"><div class=\"sc-aef7b723-0 sc-e8f714de-0 cELvic\" data-sensors-click=\"true\" style=\"cursor:pointer\"><div class=\"sc-aef7b723-0 sc-e8f714de-1 hSniWt\"><p class=\"sc-4984dd93-0 WfVLk\" color=\"text\" data-sensors-click=\"true\" font-size=\"1\" font-weight=\"medium\">6,575,949 TAO</p></div><div class=\"sc-4ff2400b-0 hKysZR\" data-sensors-click=\"true\" width=\"160\"><div class=\"sc-4ff2400b-1 dNwJap\" width=\"51\"></div></div></div></td><td style=\"text-align:end\"><a class=\"cmc-link\" href=\"/currencies/bittensor/\"><img alt=\"bittensor-7d-price-graph\" class=\"sc-14cb040a-0 dmOeak isUp\" loading=\"lazy\" src=\"https://s3.coinmarketcap.com/generated/sparklines/web/7d/2781/22974.svg\"/></a></td></tr><tr style=\"cursor:pointer\"><td><span class=\"tooltip tooltip-right\" data-text=\"Add to Main Watchlist\"><span class=\"icon-Star\" style=\"color:var(--color-light-neutral-4)\"></span></span></td><td style=\"text-align:start\"><p class=\"sc-4984dd93-0 iWSjWE\" color=\"text2\" data-sensors-click=\"true\" font-size=\"14\">37</p></td><td style=\"text-align:start\"><div class=\"sc-aef7b723-0 LCOyB\" display=\"flex\"><a class=\"cmc-link\" href=\"/currencies/render/\"><div class=\"sc-aef7b723-0 sc-adbfcfff-0 eLtPTk\" data-sensors-click=\"true\"><img alt=\"RNDR logo\" class=\"coin-logo\" decoding=\"async\" fetchpriority=\"low\" loading=\"lazy\" src=\"https://s2.coinmarketcap.com/static/img/coins/64x64/5690.png\"/><div class=\"sc-aef7b723-0 sc-adbfcfff-1 klolJt\"><div class=\"sc-aef7b723-0 sc-adbfcfff-2 iOUohe hide-ranking-number\"><p class=\"sc-4984dd93-0 kKpPOn\" color=\"text\" data-sensors-click=\"true\" font-size=\"1\" font-weight=\"semibold\">Render</p><div class=\"sc-adbfcfff-3 dDrhas\" data-nosnippet=\"true\"><p class=\"sc-4984dd93-0 iqdbQL coin-item-symbol\" color=\"text3\" data-sensors-click=\"true\" font-size=\"1\">RNDR</p></div></div></div></div></a></div></td><td style=\"text-align:end\"><div class=\"sc-500f568e-0 ejtlWy\"><a class=\"cmc-link\" href=\"/currencies/render/#markets\"><span>$9.36</span></a></div></td><td style=\"text-align:end\"><span class=\"sc-6a54057-0 YXxPZ\"><span class=\"icon-Caret-up\" style=\"width:12px;height:18px;display:inline-block\"></span>1.09%</span></td><td style=\"text-align:end\"><span class=\"sc-6a54057-0 YXxPZ\"><span class=\"icon-Caret-up\" style=\"width:12px;height:18px;display:inline-block\"></span>0.21%</span></td><td style=\"text-align:end\"><span class=\"sc-6a54057-0 iEhQde\"><span class=\"icon-Caret-down\" style=\"width:12px;height:18px;display:inline-block\"></span>1.22%</span></td><td style=\"text-align:end\"><p class=\"sc-4984dd93-0 jZrMxO\" color=\"text\" data-sensors-click=\"true\" font-size=\"1\" style=\"white-space:nowrap\"><span class=\"sc-7bc56c81-0 dCzASk\">$3.57B</span><span class=\"sc-7bc56c81-1 bCdPBp\" data-nosnippet=\"true\">$3,572,656,451</span></p></td><td style=\"text-align:end\"><div class=\"sc-aef7b723-0 sc-97d9abce-0 eGkfri\"><a class=\"cmc-link\" href=\"/currencies/render/#markets\"><p class=\"sc-4984dd93-0 jZrMxO font_weight_500\" color=\"text\" data-sensors-click=\"true\" font-size=\"1\">$169,039,889</p></a><div data-nosnippet=\"true\"><p class=\"sc-4984dd93-0 ihZPK\" color=\"text2\" data-sensors-click=\"true\" font-size=\"0\">18,067,727 RNDR</p></div></div></td><td style=\"text-align:end\"><div class=\"sc-aef7b723-0 sc-e8f714de-0 cELvic\" data-sensors-click=\"true\" style=\"cursor:pointer\"><div class=\"sc-aef7b723-0 sc-e8f714de-1 hSniWt\"><p class=\"sc-4984dd93-0 WfVLk\" color=\"text\" data-sensors-click=\"true\" font-size=\"1\" font-weight=\"medium\">381,861,234 RNDR</p></div><div class=\"sc-4ff2400b-0 hKysZR\" data-sensors-click=\"true\" width=\"160\"><div class=\"sc-4ff2400b-1 ldlvCV\" width=\"114\"></div></div></div></td><td style=\"text-align:end\"><a class=\"cmc-link\" href=\"/currencies/render/\"><img alt=\"render-7d-price-graph\" class=\"sc-14cb040a-0 dmOeak\" loading=\"lazy\" src=\"https://s3.coinmarketcap.com/generated/sparklines/web/7d/2781/5690.svg\"/></a></td></tr><tr style=\"cursor:pointer\"><td><span class=\"tooltip tooltip-right\" data-text=\"Add to Main Watchlist\"><span class=\"icon-Star\" style=\"color:var(--color-light-neutral-4)\"></span></span></td><td style=\"text-align:start\"><p class=\"sc-4984dd93-0 iWSjWE\" color=\"text2\" data-sensors-click=\"true\" font-size=\"14\">45</p></td><td style=\"text-align:start\"><div class=\"sc-aef7b723-0 LCOyB\" display=\"flex\"><a class=\"cmc-link\" href=\"/currencies/the-graph/\"><div class=\"sc-aef7b723-0 sc-adbfcfff-0 eLtPTk\" data-sensors-click=\"true\"><img alt=\"GRT logo\" class=\"coin-logo\" decoding=\"async\" fetchpriority=\"low\" loading=\"lazy\" src=\"https://s2.coinmarketcap.com/static/img/coins/64x64/6719.png\"/><div class=\"sc-aef7b723-0 sc-adbfcfff-1 klolJt\"><div class=\"sc-aef7b723-0 sc-adbfcfff-2 iOUohe hide-ranking-number\"><p class=\"sc-4984dd93-0 kKpPOn\" color=\"text\" data-sensors-click=\"true\" font-size=\"1\" font-weight=\"semibold\">The Graph</p><div class=\"sc-adbfcfff-3 dDrhas\" data-nosnippet=\"true\"><p class=\"sc-4984dd93-0 iqdbQL coin-item-symbol\" color=\"text3\" data-sensors-click=\"true\" font-size=\"1\">GRT</p></div></div></div></div></a></div></td><td style=\"text-align:end\"><div class=\"sc-500f568e-0 ejtlWy\"><a class=\"cmc-link\" href=\"/currencies/the-graph/#markets\"><span>$0.3261</span></a></div></td><td style=\"text-align:end\"><span class=\"sc-6a54057-0 YXxPZ\"><span class=\"icon-Caret-up\" style=\"width:12px;height:18px;display:inline-block\"></span>0.88%</span></td><td style=\"text-align:end\"><span class=\"sc-6a54057-0 iEhQde\"><span class=\"icon-Caret-down\" style=\"width:12px;height:18px;display:inline-block\"></span>0.80%</span></td><td style=\"text-align:end\"><span class=\"sc-6a54057-0 iEhQde\"><span class=\"icon-Caret-down\" style=\"width:12px;height:18px;display:inline-block\"></span>2.52%</span></td><td style=\"text-align:end\"><p class=\"sc-4984dd93-0 jZrMxO\" color=\"text\" data-sensors-click=\"true\" font-size=\"1\" style=\"white-space:nowrap\"><span class=\"sc-7bc56c81-0 dCzASk\">$3.08B</span><span class=\"sc-7bc56c81-1 bCdPBp\" data-nosnippet=\"true\">$3,083,820,206</span></p></td><td style=\"text-align:end\"><div class=\"sc-aef7b723-0 sc-97d9abce-0 eGkfri\"><a class=\"cmc-link\" href=\"/currencies/the-graph/#markets\"><p class=\"sc-4984dd93-0 jZrMxO font_weight_500\" color=\"text\" data-sensors-click=\"true\" font-size=\"1\">$95,107,531</p></a><div data-nosnippet=\"true\"><p class=\"sc-4984dd93-0 ihZPK\" color=\"text2\" data-sensors-click=\"true\" font-size=\"0\">291,664,062 GRT</p></div></div></td><td style=\"text-align:end\"><div class=\"sc-aef7b723-0 sc-e8f714de-0 cELvic\" data-sensors-click=\"true\" style=\"cursor:\"><div class=\"sc-aef7b723-0 sc-e8f714de-1 hSniWt\"><p class=\"sc-4984dd93-0 WfVLk\" color=\"text\" data-sensors-click=\"true\" font-size=\"1\" font-weight=\"medium\">9,457,079,943 GRT</p></div></div></td><td style=\"text-align:end\"><a class=\"cmc-link\" href=\"/currencies/the-graph/\"><img alt=\"the-graph-7d-price-graph\" class=\"sc-14cb040a-0 dmOeak\" loading=\"lazy\" src=\"https://s3.coinmarketcap.com/generated/sparklines/web/7d/2781/6719.svg\"/></a></td></tr><tr style=\"cursor:pointer\"><td><span class=\"tooltip tooltip-right\" data-text=\"Add to Main Watchlist\"><span class=\"icon-Star\" style=\"color:var(--color-light-neutral-4)\"></span></span></td><td style=\"text-align:start\"><p class=\"sc-4984dd93-0 iWSjWE\" color=\"text2\" data-sensors-click=\"true\" font-size=\"14\">46</p></td><td style=\"text-align:start\"><div class=\"sc-aef7b723-0 LCOyB\" display=\"flex\"><a class=\"cmc-link\" href=\"/currencies/theta-network/\"><div class=\"sc-aef7b723-0 sc-adbfcfff-0 eLtPTk\" data-sensors-click=\"true\"><img alt=\"THETA logo\" class=\"coin-logo\" decoding=\"async\" fetchpriority=\"low\" loading=\"lazy\" src=\"https://s2.coinmarketcap.com/static/img/coins/64x64/2416.png\"/><div class=\"sc-aef7b723-0 sc-adbfcfff-1 klolJt\"><div class=\"sc-aef7b723-0 sc-adbfcfff-2 iOUohe hide-ranking-number\"><p class=\"sc-4984dd93-0 kKpPOn\" color=\"text\" data-sensors-click=\"true\" font-size=\"1\" font-weight=\"semibold\">Theta Network</p><div class=\"sc-adbfcfff-3 dDrhas\" data-nosnippet=\"true\"><p class=\"sc-4984dd93-0 iqdbQL coin-item-symbol\" color=\"text3\" data-sensors-click=\"true\" font-size=\"1\">THETA</p></div></div></div></div></a></div></td><td style=\"text-align:end\"><div class=\"sc-500f568e-0 ejtlWy\"><a class=\"cmc-link\" href=\"/currencies/theta-network/#markets\"><span>$3.03</span></a></div></td><td style=\"text-align:end\"><span class=\"sc-6a54057-0 YXxPZ\"><span class=\"icon-Caret-up\" style=\"width:12px;height:18px;display:inline-block\"></span>0.86%</span></td><td style=\"text-align:end\"><span class=\"sc-6a54057-0 YXxPZ\"><span class=\"icon-Caret-up\" style=\"width:12px;height:18px;display:inline-block\"></span>10.39%</span></td><td style=\"text-align:end\"><span class=\"sc-6a54057-0 YXxPZ\"><span class=\"icon-Caret-up\" style=\"width:12px;height:18px;display:inline-block\"></span>19.27%</span></td><td style=\"text-align:end\"><p class=\"sc-4984dd93-0 jZrMxO\" color=\"text\" data-sensors-click=\"true\" font-size=\"1\" style=\"white-space:nowrap\"><span class=\"sc-7bc56c81-0 dCzASk\">$3.03B</span><span class=\"sc-7bc56c81-1 bCdPBp\" data-nosnippet=\"true\">$3,028,826,151</span></p></td><td style=\"text-align:end\"><div class=\"sc-aef7b723-0 sc-97d9abce-0 eGkfri\"><a class=\"cmc-link\" href=\"/currencies/theta-network/#markets\"><p class=\"sc-4984dd93-0 jZrMxO font_weight_500\" color=\"text\" data-sensors-click=\"true\" font-size=\"1\">$101,676,662</p></a><div data-nosnippet=\"true\"><p class=\"sc-4984dd93-0 ihZPK\" color=\"text2\" data-sensors-click=\"true\" font-size=\"0\">33,569,659 THETA</p></div></div></td><td style=\"text-align:end\"><div class=\"sc-aef7b723-0 sc-e8f714de-0 cELvic\" data-sensors-click=\"true\" style=\"cursor:\"><div class=\"sc-aef7b723-0 sc-e8f714de-1 hSniWt\"><p class=\"sc-4984dd93-0 WfVLk\" color=\"text\" data-sensors-click=\"true\" font-size=\"1\" font-weight=\"medium\">1,000,000,000 THETA</p></div></div></td><td style=\"text-align:end\"><a class=\"cmc-link\" href=\"/currencies/theta-network/\"><img alt=\"theta-network-7d-price-graph\" class=\"sc-14cb040a-0 dmOeak isUp\" loading=\"lazy\" src=\"https://s3.coinmarketcap.com/generated/sparklines/web/7d/2781/2416.svg\"/></a></td></tr><tr style=\"cursor:pointer\"><td><span class=\"tooltip tooltip-right\" data-text=\"Add to Main Watchlist\"><span class=\"icon-Star\" style=\"color:var(--color-light-neutral-4)\"></span></span></td><td style=\"text-align:start\"><p class=\"sc-4984dd93-0 iWSjWE\" color=\"text2\" data-sensors-click=\"true\" font-size=\"14\">52</p></td><td style=\"text-align:start\"><div class=\"sc-aef7b723-0 LCOyB\" display=\"flex\"><a class=\"cmc-link\" href=\"/currencies/fetch/\"><div class=\"sc-aef7b723-0 sc-adbfcfff-0 eLtPTk\" data-sensors-click=\"true\"><img alt=\"FET logo\" class=\"coin-logo\" decoding=\"async\" fetchpriority=\"low\" loading=\"lazy\" src=\"https://s2.coinmarketcap.com/static/img/coins/64x64/3773.png\"/><div class=\"sc-aef7b723-0 sc-adbfcfff-1 klolJt\"><div class=\"sc-aef7b723-0 sc-adbfcfff-2 iOUohe hide-ranking-number\"><p class=\"sc-4984dd93-0 kKpPOn\" color=\"text\" data-sensors-click=\"true\" font-size=\"1\" font-weight=\"semibold\">Fetch.ai</p><div class=\"sc-adbfcfff-3 dDrhas\" data-nosnippet=\"true\"><p class=\"sc-4984dd93-0 iqdbQL coin-item-symbol\" color=\"text3\" data-sensors-click=\"true\" font-size=\"1\">FET</p></div></div></div></div></a></div></td><td style=\"text-align:end\"><div class=\"sc-500f568e-0 ejtlWy\"><a class=\"cmc-link\" href=\"/currencies/fetch/#markets\"><span>$2.72</span></a></div></td><td style=\"text-align:end\"><span class=\"sc-6a54057-0 YXxPZ\"><span class=\"icon-Caret-up\" style=\"width:12px;height:18px;display:inline-block\"></span>2.37%</span></td><td style=\"text-align:end\"><span class=\"sc-6a54057-0 YXxPZ\"><span class=\"icon-Caret-up\" style=\"width:12px;height:18px;display:inline-block\"></span>6.28%</span></td><td style=\"text-align:end\"><span class=\"sc-6a54057-0 YXxPZ\"><span class=\"icon-Caret-up\" style=\"width:12px;height:18px;display:inline-block\"></span>2.27%</span></td><td style=\"text-align:end\"><p class=\"sc-4984dd93-0 jZrMxO\" color=\"text\" data-sensors-click=\"true\" font-size=\"1\" style=\"white-space:nowrap\"><span class=\"sc-7bc56c81-0 dCzASk\">$2.3B</span><span class=\"sc-7bc56c81-1 bCdPBp\" data-nosnippet=\"true\">$2,301,580,950</span></p></td><td style=\"text-align:end\"><div class=\"sc-aef7b723-0 sc-97d9abce-0 eGkfri\"><a class=\"cmc-link\" href=\"/currencies/fetch/#markets\"><p class=\"sc-4984dd93-0 jZrMxO font_weight_500\" color=\"text\" data-sensors-click=\"true\" font-size=\"1\">$245,107,070</p></a><div data-nosnippet=\"true\"><p class=\"sc-4984dd93-0 ihZPK\" color=\"text2\" data-sensors-click=\"true\" font-size=\"0\">90,094,124 FET</p></div></div></td><td style=\"text-align:end\"><div class=\"sc-aef7b723-0 sc-e8f714de-0 cELvic\" data-sensors-click=\"true\" style=\"cursor:\"><div class=\"sc-aef7b723-0 sc-e8f714de-1 hSniWt\"><p class=\"sc-4984dd93-0 WfVLk\" color=\"text\" data-sensors-click=\"true\" font-size=\"1\" font-weight=\"medium\">845,993,215 FET</p></div></div></td><td style=\"text-align:end\"><a class=\"cmc-link\" href=\"/currencies/fetch/\"><img alt=\"fetch-7d-price-graph\" class=\"sc-14cb040a-0 dmOeak isUp\" loading=\"lazy\" src=\"https://s3.coinmarketcap.com/generated/sparklines/web/7d/2781/3773.svg\"/></a></td></tr><tr style=\"cursor:pointer\"><td><span class=\"tooltip tooltip-right\" data-text=\"Add to Main Watchlist\"><span class=\"icon-Star\" style=\"color:var(--color-light-neutral-4)\"></span></span></td><td style=\"text-align:start\"><p class=\"sc-4984dd93-0 iWSjWE\" color=\"text2\" data-sensors-click=\"true\" font-size=\"14\">82</p></td><td style=\"text-align:start\"><div class=\"sc-aef7b723-0 LCOyB\" display=\"flex\"><a class=\"cmc-link\" href=\"/currencies/singularitynet/\"><div class=\"sc-aef7b723-0 sc-adbfcfff-0 eLtPTk\" data-sensors-click=\"true\"><img alt=\"AGIX logo\" class=\"coin-logo\" decoding=\"async\" fetchpriority=\"low\" loading=\"lazy\" src=\"https://s2.coinmarketcap.com/static/img/coins/64x64/2424.png\"/><div class=\"sc-aef7b723-0 sc-adbfcfff-1 klolJt\"><div class=\"sc-aef7b723-0 sc-adbfcfff-2 iOUohe hide-ranking-number\"><p class=\"sc-4984dd93-0 kKpPOn\" color=\"text\" data-sensors-click=\"true\" font-size=\"1\" font-weight=\"semibold\">SingularityNET</p><div class=\"sc-adbfcfff-3 dDrhas\" data-nosnippet=\"true\"><p class=\"sc-4984dd93-0 iqdbQL coin-item-symbol\" color=\"text3\" data-sensors-click=\"true\" font-size=\"1\">AGIX</p></div></div></div></div></a></div></td><td style=\"text-align:end\"><div class=\"sc-500f568e-0 ejtlWy\"><a class=\"cmc-link\" href=\"/currencies/singularitynet/#markets\"><span>$1.08</span></a></div></td><td style=\"text-align:end\"><span class=\"sc-6a54057-0 YXxPZ\"><span class=\"icon-Caret-up\" style=\"width:12px;height:18px;display:inline-block\"></span>1.09%</span></td><td style=\"text-align:end\"><span class=\"sc-6a54057-0 YXxPZ\"><span class=\"icon-Caret-up\" style=\"width:12px;height:18px;display:inline-block\"></span>3.67%</span></td><td style=\"text-align:end\"><span class=\"sc-6a54057-0 YXxPZ\"><span class=\"icon-Caret-up\" style=\"width:12px;height:18px;display:inline-block\"></span>0.68%</span></td><td style=\"text-align:end\"><p class=\"sc-4984dd93-0 jZrMxO\" color=\"text\" data-sensors-click=\"true\" font-size=\"1\" style=\"white-space:nowrap\"><span class=\"sc-7bc56c81-0 dCzASk\">$1.38B</span><span class=\"sc-7bc56c81-1 bCdPBp\" data-nosnippet=\"true\">$1,380,085,650</span></p></td><td style=\"text-align:end\"><div class=\"sc-aef7b723-0 sc-97d9abce-0 eGkfri\"><a class=\"cmc-link\" href=\"/currencies/singularitynet/#markets\"><p class=\"sc-4984dd93-0 jZrMxO font_weight_500\" color=\"text\" data-sensors-click=\"true\" font-size=\"1\">$119,366,137</p></a><div data-nosnippet=\"true\"><p class=\"sc-4984dd93-0 ihZPK\" color=\"text2\" data-sensors-click=\"true\" font-size=\"0\">110,883,886 AGIX</p></div></div></td><td style=\"text-align:end\"><div class=\"sc-aef7b723-0 sc-e8f714de-0 cELvic\" data-sensors-click=\"true\" style=\"cursor:pointer\"><div class=\"sc-aef7b723-0 sc-e8f714de-1 hSniWt\"><p class=\"sc-4984dd93-0 WfVLk\" color=\"text\" data-sensors-click=\"true\" font-size=\"1\" font-weight=\"medium\">1,282,015,682 AGIX</p></div><div class=\"sc-4ff2400b-0 hKysZR\" data-sensors-click=\"true\" width=\"160\"><div class=\"sc-4ff2400b-1 ldltAr\" width=\"103\"></div></div></div></td><td style=\"text-align:end\"><a class=\"cmc-link\" href=\"/currencies/singularitynet/\"><img alt=\"singularitynet-7d-price-graph\" class=\"sc-14cb040a-0 dmOeak isUp\" loading=\"lazy\" src=\"https://s3.coinmarketcap.com/generated/sparklines/web/7d/2781/2424.svg\"/></a></td></tr><tr style=\"cursor:pointer\"><td><span class=\"tooltip tooltip-right\" data-text=\"Add to Main Watchlist\"><span class=\"icon-Star\" style=\"color:var(--color-light-neutral-4)\"></span></span></td><td style=\"text-align:start\"><p class=\"sc-4984dd93-0 iWSjWE\" color=\"text2\" data-sensors-click=\"true\" font-size=\"14\">102</p></td><td style=\"text-align:start\"><div class=\"sc-aef7b723-0 LCOyB\" display=\"flex\"><a class=\"cmc-link\" href=\"/currencies/akash-network/\"><div class=\"sc-aef7b723-0 sc-adbfcfff-0 eLtPTk\" data-sensors-click=\"true\"><img alt=\"AKT logo\" class=\"coin-logo\" decoding=\"async\" fetchpriority=\"low\" loading=\"lazy\" src=\"https://s2.coinmarketcap.com/static/img/coins/64x64/7431.png\"/><div class=\"sc-aef7b723-0 sc-adbfcfff-1 klolJt\"><div class=\"sc-aef7b723-0 sc-adbfcfff-2 iOUohe hide-ranking-number\"><p class=\"sc-4984dd93-0 kKpPOn\" color=\"text\" data-sensors-click=\"true\" font-size=\"1\" font-weight=\"semibold\">Akash Network</p><div class=\"sc-adbfcfff-3 dDrhas\" data-nosnippet=\"true\"><p class=\"sc-4984dd93-0 iqdbQL coin-item-symbol\" color=\"text3\" data-sensors-click=\"true\" font-size=\"1\">AKT</p></div></div></div></div></a></div></td><td style=\"text-align:end\"><div class=\"sc-500f568e-0 ejtlWy\"><a class=\"cmc-link\" href=\"/currencies/akash-network/#markets\"><span>$4.18</span></a></div></td><td style=\"text-align:end\"><span class=\"sc-6a54057-0 YXxPZ\"><span class=\"icon-Caret-up\" style=\"width:12px;height:18px;display:inline-block\"></span>0.55%</span></td><td style=\"text-align:end\"><span class=\"sc-6a54057-0 YXxPZ\"><span class=\"icon-Caret-up\" style=\"width:12px;height:18px;display:inline-block\"></span>2.91%</span></td><td style=\"text-align:end\"><span class=\"sc-6a54057-0 YXxPZ\"><span class=\"icon-Caret-up\" style=\"width:12px;height:18px;display:inline-block\"></span>0.23%</span></td><td style=\"text-align:end\"><p class=\"sc-4984dd93-0 jZrMxO\" color=\"text\" data-sensors-click=\"true\" font-size=\"1\" style=\"white-space:nowrap\"><span class=\"sc-7bc56c81-0 dCzASk\">$975.17M</span><span class=\"sc-7bc56c81-1 bCdPBp\" data-nosnippet=\"true\">$975,170,347</span></p></td><td style=\"text-align:end\"><div class=\"sc-aef7b723-0 sc-97d9abce-0 eGkfri\"><a class=\"cmc-link\" href=\"/currencies/akash-network/#markets\"><p class=\"sc-4984dd93-0 jZrMxO font_weight_500\" color=\"text\" data-sensors-click=\"true\" font-size=\"1\">$7,836,827</p></a><div data-nosnippet=\"true\"><p class=\"sc-4984dd93-0 ihZPK\" color=\"text2\" data-sensors-click=\"true\" font-size=\"0\">1,873,849 AKT</p></div></div></td><td style=\"text-align:end\"><div class=\"sc-aef7b723-0 sc-e8f714de-0 cELvic\" data-sensors-click=\"true\" style=\"cursor:pointer\"><div class=\"sc-aef7b723-0 sc-e8f714de-1 hSniWt\"><p class=\"sc-4984dd93-0 WfVLk\" color=\"text\" data-sensors-click=\"true\" font-size=\"1\" font-weight=\"medium\">233,171,179 AKT</p></div><div class=\"sc-4ff2400b-0 hKysZR\" data-sensors-click=\"true\" width=\"160\"><div class=\"sc-4ff2400b-1 dNwJbr\" width=\"97\"></div></div></div></td><td style=\"text-align:end\"><a class=\"cmc-link\" href=\"/currencies/akash-network/\"><img alt=\"akash-network-7d-price-graph\" class=\"sc-14cb040a-0 dmOeak isUp\" loading=\"lazy\" src=\"https://s3.coinmarketcap.com/generated/sparklines/web/7d/2781/7431.svg\"/></a></td></tr><tr style=\"cursor:pointer\"><td><span class=\"tooltip tooltip-right\" data-text=\"Add to Main Watchlist\"><span class=\"icon-Star\" style=\"color:var(--color-light-neutral-4)\"></span></span></td><td style=\"text-align:start\"><p class=\"sc-4984dd93-0 iWSjWE\" color=\"text2\" data-sensors-click=\"true\" font-size=\"14\">108</p></td><td style=\"text-align:start\"><div class=\"sc-aef7b723-0 LCOyB\" display=\"flex\"><a class=\"cmc-link\" href=\"/currencies/aioz-network/\"><div class=\"sc-aef7b723-0 sc-adbfcfff-0 eLtPTk\" data-sensors-click=\"true\"><img alt=\"AIOZ logo\" class=\"coin-logo\" decoding=\"async\" fetchpriority=\"low\" loading=\"lazy\" src=\"https://s2.coinmarketcap.com/static/img/coins/64x64/9104.png\"/><div class=\"sc-aef7b723-0 sc-adbfcfff-1 klolJt\"><div class=\"sc-aef7b723-0 sc-adbfcfff-2 iOUohe hide-ranking-number\"><p class=\"sc-4984dd93-0 kKpPOn\" color=\"text\" data-sensors-click=\"true\" font-size=\"1\" font-weight=\"semibold\">AIOZ Network</p><div class=\"sc-adbfcfff-3 dDrhas\" data-nosnippet=\"true\"><p class=\"sc-4984dd93-0 iqdbQL coin-item-symbol\" color=\"text3\" data-sensors-click=\"true\" font-size=\"1\">AIOZ</p></div></div></div></div></a></div></td><td style=\"text-align:end\"><div class=\"sc-500f568e-0 ejtlWy\"><a class=\"cmc-link\" href=\"/currencies/aioz-network/#markets\"><span>$0.7929</span></a></div></td><td style=\"text-align:end\"><span class=\"sc-6a54057-0 iEhQde\"><span class=\"icon-Caret-down\" style=\"width:12px;height:18px;display:inline-block\"></span>0.11%</span></td><td style=\"text-align:end\"><span class=\"sc-6a54057-0 iEhQde\"><span class=\"icon-Caret-down\" style=\"width:12px;height:18px;display:inline-block\"></span>1.21%</span></td><td style=\"text-align:end\"><span class=\"sc-6a54057-0 iEhQde\"><span class=\"icon-Caret-down\" style=\"width:12px;height:18px;display:inline-block\"></span>6.62%</span></td><td style=\"text-align:end\"><p class=\"sc-4984dd93-0 jZrMxO\" color=\"text\" data-sensors-click=\"true\" font-size=\"1\" style=\"white-space:nowrap\"><span class=\"sc-7bc56c81-0 dCzASk\">$860.92M</span><span class=\"sc-7bc56c81-1 bCdPBp\" data-nosnippet=\"true\">$860,923,212</span></p></td><td style=\"text-align:end\"><div class=\"sc-aef7b723-0 sc-97d9abce-0 eGkfri\"><a class=\"cmc-link\" href=\"/currencies/aioz-network/#markets\"><p class=\"sc-4984dd93-0 jZrMxO font_weight_500\" color=\"text\" data-sensors-click=\"true\" font-size=\"1\">$7,825,583</p></a><div data-nosnippet=\"true\"><p class=\"sc-4984dd93-0 ihZPK\" color=\"text2\" data-sensors-click=\"true\" font-size=\"0\">9,869,272 AIOZ</p></div></div></td><td style=\"text-align:end\"><div class=\"sc-aef7b723-0 sc-e8f714de-0 cELvic\" data-sensors-click=\"true\" style=\"cursor:\"><div class=\"sc-aef7b723-0 sc-e8f714de-1 hSniWt\"><p class=\"sc-4984dd93-0 WfVLk\" color=\"text\" data-sensors-click=\"true\" font-size=\"1\" font-weight=\"medium\">1,085,757,503 AIOZ</p></div></div></td><td style=\"text-align:end\"><a class=\"cmc-link\" href=\"/currencies/aioz-network/\"><img alt=\"aioz-network-7d-price-graph\" class=\"sc-14cb040a-0 dmOeak\" loading=\"lazy\" src=\"https://s3.coinmarketcap.com/generated/sparklines/web/7d/2781/9104.svg\"/></a></td></tr><tr style=\"cursor:pointer\"><td><span class=\"tooltip tooltip-right\" data-text=\"Add to Main Watchlist\"><span class=\"icon-Star\" style=\"color:var(--color-light-neutral-4)\"></span></span></td><td style=\"text-align:start\"><p class=\"sc-4984dd93-0 iWSjWE\" color=\"text2\" data-sensors-click=\"true\" font-size=\"14\">110</p></td><td style=\"text-align:start\"><div class=\"sc-aef7b723-0 LCOyB\" display=\"flex\"><a class=\"cmc-link\" href=\"/currencies/oasis-network/\"><div class=\"sc-aef7b723-0 sc-adbfcfff-0 eLtPTk\" data-sensors-click=\"true\"><img alt=\"ROSE logo\" class=\"coin-logo\" decoding=\"async\" fetchpriority=\"low\" loading=\"lazy\" src=\"https://s2.coinmarketcap.com/static/img/coins/64x64/7653.png\"/><div class=\"sc-aef7b723-0 sc-adbfcfff-1 klolJt\"><div class=\"sc-aef7b723-0 sc-adbfcfff-2 iOUohe hide-ranking-number\"><p class=\"sc-4984dd93-0 kKpPOn\" color=\"text\" data-sensors-click=\"true\" font-size=\"1\" font-weight=\"semibold\">Oasis Network</p><div class=\"sc-adbfcfff-3 dDrhas\" data-nosnippet=\"true\"><p class=\"sc-4984dd93-0 iqdbQL coin-item-symbol\" color=\"text3\" data-sensors-click=\"true\" font-size=\"1\">ROSE</p></div></div></div></div></a></div></td><td style=\"text-align:end\"><div class=\"sc-500f568e-0 ejtlWy\"><a class=\"cmc-link\" href=\"/currencies/oasis-network/#markets\"><span>$0.1253</span></a></div></td><td style=\"text-align:end\"><span class=\"sc-6a54057-0 YXxPZ\"><span class=\"icon-Caret-up\" style=\"width:12px;height:18px;display:inline-block\"></span>0.44%</span></td><td style=\"text-align:end\"><span class=\"sc-6a54057-0 iEhQde\"><span class=\"icon-Caret-down\" style=\"width:12px;height:18px;display:inline-block\"></span>0.23%</span></td><td style=\"text-align:end\"><span class=\"sc-6a54057-0 iEhQde\"><span class=\"icon-Caret-down\" style=\"width:12px;height:18px;display:inline-block\"></span>2.79%</span></td><td style=\"text-align:end\"><p class=\"sc-4984dd93-0 jZrMxO\" color=\"text\" data-sensors-click=\"true\" font-size=\"1\" style=\"white-space:nowrap\"><span class=\"sc-7bc56c81-0 dCzASk\">$841.06M</span><span class=\"sc-7bc56c81-1 bCdPBp\" data-nosnippet=\"true\">$841,060,435</span></p></td><td style=\"text-align:end\"><div class=\"sc-aef7b723-0 sc-97d9abce-0 eGkfri\"><a class=\"cmc-link\" href=\"/currencies/oasis-network/#markets\"><p class=\"sc-4984dd93-0 jZrMxO font_weight_500\" color=\"text\" data-sensors-click=\"true\" font-size=\"1\">$36,221,713</p></a><div data-nosnippet=\"true\"><p class=\"sc-4984dd93-0 ihZPK\" color=\"text2\" data-sensors-click=\"true\" font-size=\"0\">289,132,720 ROSE</p></div></div></td><td style=\"text-align:end\"><div class=\"sc-aef7b723-0 sc-e8f714de-0 cELvic\" data-sensors-click=\"true\" style=\"cursor:pointer\"><div class=\"sc-aef7b723-0 sc-e8f714de-1 hSniWt\"><p class=\"sc-4984dd93-0 WfVLk\" color=\"text\" data-sensors-click=\"true\" font-size=\"1\" font-weight=\"medium\">6,713,599,876 ROSE</p></div><div class=\"sc-4ff2400b-0 hKysZR\" data-sensors-click=\"true\" width=\"160\"><div class=\"sc-4ff2400b-1 ldlqKY\" width=\"108\"></div></div></div></td><td style=\"text-align:end\"><a class=\"cmc-link\" href=\"/currencies/oasis-network/\"><img alt=\"oasis-network-7d-price-graph\" class=\"sc-14cb040a-0 dmOeak\" loading=\"lazy\" src=\"https://s3.coinmarketcap.com/generated/sparklines/web/7d/2781/7653.svg\"/></a></td></tr><tr class=\"sc-240ce903-0 gaVAjX\"><td></td><td></td><td><a class=\"cmc-link\" href=\"/currencies/echelon-prime/\"><span class=\"circle\"></span><span>Echelon Prime</span><span class=\"crypto-symbol\">PRIME</span></a></td><td>$<!-- -->22.37</td><td colspan=\"100\"></td></tr><tr class=\"sc-240ce903-0 gaVAjX\"><td></td><td></td><td><a class=\"cmc-link\" href=\"/currencies/theta-fuel/\"><span class=\"circle\"></span><span>Theta Fuel</span><span class=\"crypto-symbol\">TFUEL</span></a></td><td>$<!-- -->0.12</td><td colspan=\"100\"></td></tr><tr class=\"sc-240ce903-0 gaVAjX\"><td></td><td></td><td><a class=\"cmc-link\" href=\"/currencies/ocean-protocol/\"><span class=\"circle\"></span><span>Ocean Protocol</span><span class=\"crypto-symbol\">OCEAN</span></a></td><td>$<!-- -->1.12</td><td colspan=\"100\"></td></tr><tr class=\"sc-240ce903-0 gaVAjX\"><td></td><td></td><td><a class=\"cmc-link\" href=\"/currencies/golem-network-tokens/\"><span class=\"circle\"></span><span>Golem</span><span class=\"crypto-symbol\">GLM</span></a></td><td>$<!-- -->0.52</td><td colspan=\"100\"></td></tr><tr class=\"sc-240ce903-0 gaVAjX\"><td></td><td></td><td><a class=\"cmc-link\" href=\"/currencies/origintrail/\"><span class=\"circle\"></span><span>OriginTrail</span><span class=\"crypto-symbol\">TRAC</span></a></td><td>$<!-- -->1.14</td><td colspan=\"100\"></td></tr><tr class=\"sc-240ce903-0 gaVAjX\"><td></td><td></td><td><a class=\"cmc-link\" href=\"/currencies/arkham/\"><span class=\"circle\"></span><span>Arkham</span><span class=\"crypto-symbol\">ARKM</span></a></td><td>$<!-- -->2.02</td><td colspan=\"100\"></td></tr><tr class=\"sc-240ce903-0 gaVAjX\"><td></td><td></td><td><a class=\"cmc-link\" href=\"/currencies/zel/\"><span class=\"circle\"></span><span>Flux</span><span class=\"crypto-symbol\">FLUX</span></a></td><td>$<!-- -->1.10</td><td colspan=\"100\"></td></tr><tr class=\"sc-240ce903-0 gaVAjX\"><td></td><td></td><td><a class=\"cmc-link\" href=\"/currencies/paal-ai/\"><span class=\"circle\"></span><span>PAAL AI</span><span class=\"crypto-symbol\">PAAL</span></a></td><td>$<!-- -->0.56</td><td colspan=\"100\"></td></tr><tr class=\"sc-240ce903-0 gaVAjX\"><td></td><td></td><td><a class=\"cmc-link\" href=\"/currencies/kadena/\"><span class=\"circle\"></span><span>Kadena</span><span class=\"crypto-symbol\">KDA</span></a></td><td>$<!-- -->1.25</td><td colspan=\"100\"></td></tr><tr class=\"sc-240ce903-0 gaVAjX\"><td></td><td></td><td><a class=\"cmc-link\" href=\"/currencies/0x0-ai-ai-smart-contract/\"><span class=\"circle\"></span><span>0x0.ai</span><span class=\"crypto-symbol\">0x0</span></a></td><td>$<!-- -->0.36</td><td colspan=\"100\"></td></tr><tr class=\"sc-240ce903-0 gaVAjX\"><td></td><td></td><td><a class=\"cmc-link\" href=\"/currencies/arcblock/\"><span class=\"circle\"></span><span>Arcblock</span><span class=\"crypto-symbol\">ABT</span></a></td><td>$<!-- -->2.72</td><td colspan=\"100\"></td></tr><tr class=\"sc-240ce903-0 gaVAjX\"><td></td><td></td><td><a class=\"cmc-link\" href=\"/currencies/rlc/\"><span class=\"circle\"></span><span>iExec RLC</span><span class=\"crypto-symbol\">RLC</span></a></td><td>$<!-- -->3.46</td><td colspan=\"100\"></td></tr><tr class=\"sc-240ce903-0 gaVAjX\"><td></td><td></td><td><a class=\"cmc-link\" href=\"/currencies/rss3/\"><span class=\"circle\"></span><span>RSS3</span><span class=\"crypto-symbol\">RSS3</span></a></td><td>$<!-- -->0.43</td><td colspan=\"100\"></td></tr><tr class=\"sc-240ce903-0 gaVAjX\"><td></td><td></td><td><a class=\"cmc-link\" href=\"/currencies/delysium/\"><span class=\"circle\"></span><span>Delysium</span><span class=\"crypto-symbol\">AGI</span></a></td><td>$<!-- -->0.34</td><td colspan=\"100\"></td></tr><tr class=\"sc-240ce903-0 gaVAjX\"><td></td><td></td><td><a class=\"cmc-link\" href=\"/currencies/numeraire/\"><span class=\"circle\"></span><span>Numeraire</span><span class=\"crypto-symbol\">NMR</span></a></td><td>$<!-- -->33.38</td><td colspan=\"100\"></td></tr><tr class=\"sc-240ce903-0 gaVAjX\"><td></td><td></td><td><a class=\"cmc-link\" href=\"/currencies/iq/\"><span class=\"circle\"></span><span>IQ</span><span class=\"crypto-symbol\">IQ</span></a></td><td>$<!-- -->0.01</td><td colspan=\"100\"></td></tr><tr class=\"sc-240ce903-0 gaVAjX\"><td></td><td></td><td><a class=\"cmc-link\" href=\"/currencies/sleepless-ai/\"><span class=\"circle\"></span><span>Sleepless AI</span><span class=\"crypto-symbol\">AI</span></a></td><td>$<!-- -->1.45</td><td colspan=\"100\"></td></tr><tr class=\"sc-240ce903-0 gaVAjX\"><td></td><td></td><td><a class=\"cmc-link\" href=\"/currencies/node-ai/\"><span class=\"circle\"></span><span>Node AI</span><span class=\"crypto-symbol\">GPU</span></a></td><td>$<!-- -->2.15</td><td colspan=\"100\"></td></tr><tr class=\"sc-240ce903-0 gaVAjX\"><td></td><td></td><td><a class=\"cmc-link\" href=\"/currencies/hooked-protocol/\"><span class=\"circle\"></span><span>Hooked Protocol</span><span class=\"crypto-symbol\">HOOK</span></a></td><td>$<!-- -->1.31</td><td colspan=\"100\"></td></tr><tr class=\"sc-240ce903-0 gaVAjX\"><td></td><td></td><td><a class=\"cmc-link\" href=\"/currencies/oraichain-token/\"><span class=\"circle\"></span><span>Oraichain</span><span class=\"crypto-symbol\">ORAI</span></a></td><td>$<!-- -->14.14</td><td colspan=\"100\"></td></tr><tr class=\"sc-240ce903-0 gaVAjX\"><td></td><td></td><td><a class=\"cmc-link\" href=\"/currencies/phala-network/\"><span class=\"circle\"></span><span>Phala Network</span><span class=\"crypto-symbol\">PHA</span></a></td><td>$<!-- -->0.25</td><td colspan=\"100\"></td></tr><tr class=\"sc-240ce903-0 gaVAjX\"><td></td><td></td><td><a class=\"cmc-link\" href=\"/currencies/covalent/\"><span class=\"circle\"></span><span>Covalent</span><span class=\"crypto-symbol\">CQT</span></a></td><td>$<!-- -->0.26</td><td colspan=\"100\"></td></tr><tr class=\"sc-240ce903-0 gaVAjX\"><td></td><td></td><td><a class=\"cmc-link\" href=\"/currencies/nfprompt/\"><span class=\"circle\"></span><span>NFPrompt</span><span class=\"crypto-symbol\">NFP</span></a></td><td>$<!-- -->0.67</td><td colspan=\"100\"></td></tr><tr class=\"sc-240ce903-0 gaVAjX\"><td></td><td></td><td><a class=\"cmc-link\" href=\"/currencies/insure/\"><span class=\"circle\"></span><span>inSure DeFi</span><span class=\"crypto-symbol\">SURE</span></a></td><td>$<!-- -->0.01</td><td colspan=\"100\"></td></tr><tr class=\"sc-240ce903-0 gaVAjX\"><td></td><td></td><td><a class=\"cmc-link\" href=\"/currencies/zigcoin/\"><span class=\"circle\"></span><span>Zignaly</span><span class=\"crypto-symbol\">ZIG</span></a></td><td>$<!-- -->0.10</td><td colspan=\"100\"></td></tr><tr class=\"sc-240ce903-0 gaVAjX\"><td></td><td></td><td><a class=\"cmc-link\" href=\"/currencies/dkargo/\"><span class=\"circle\"></span><span>dKargo</span><span class=\"crypto-symbol\">DKA</span></a></td><td>$<!-- -->0.04</td><td colspan=\"100\"></td></tr><tr class=\"sc-240ce903-0 gaVAjX\"><td></td><td></td><td><a class=\"cmc-link\" href=\"/currencies/tokenfi/\"><span class=\"circle\"></span><span>TokenFi</span><span class=\"crypto-symbol\">TOKEN</span></a></td><td>$<!-- -->0.14</td><td colspan=\"100\"></td></tr><tr class=\"sc-240ce903-0 gaVAjX\"><td></td><td></td><td><a class=\"cmc-link\" href=\"/currencies/chaingpt/\"><span class=\"circle\"></span><span>ChainGPT</span><span class=\"crypto-symbol\">CGPT</span></a></td><td>$<!-- -->0.32</td><td colspan=\"100\"></td></tr><tr class=\"sc-240ce903-0 gaVAjX\"><td></td><td></td><td><a class=\"cmc-link\" href=\"/currencies/cudos/\"><span class=\"circle\"></span><span>CUDOS</span><span class=\"crypto-symbol\">CUDOS</span></a></td><td>$<!-- -->0.02</td><td colspan=\"100\"></td></tr><tr class=\"sc-240ce903-0 gaVAjX\"><td></td><td></td><td><a class=\"cmc-link\" href=\"/currencies/solidus-ai-tech/\"><span class=\"circle\"></span><span>Solidus Ai Tech</span><span class=\"crypto-symbol\">AITECH</span></a></td><td>$<!-- -->0.22</td><td colspan=\"100\"></td></tr><tr class=\"sc-240ce903-0 gaVAjX\"><td></td><td></td><td><a class=\"cmc-link\" href=\"/currencies/phoenix-global-new/\"><span class=\"circle\"></span><span>Phoenix</span><span class=\"crypto-symbol\">PHB</span></a></td><td>$<!-- -->2.20</td><td colspan=\"100\"></td></tr><tr class=\"sc-240ce903-0 gaVAjX\"><td></td><td></td><td><a class=\"cmc-link\" href=\"/currencies/sidus/\"><span class=\"circle\"></span><span>SIDUS</span><span class=\"crypto-symbol\">SIDUS</span></a></td><td>$<!-- -->0.01</td><td colspan=\"100\"></td></tr><tr class=\"sc-240ce903-0 gaVAjX\"><td></td><td></td><td><a class=\"cmc-link\" href=\"/currencies/vaiot/\"><span class=\"circle\"></span><span>VAIOT</span><span class=\"crypto-symbol\">VAI</span></a></td><td>$<!-- -->0.30</td><td colspan=\"100\"></td></tr><tr class=\"sc-240ce903-0 gaVAjX\"><td></td><td></td><td><a class=\"cmc-link\" href=\"/currencies/platon/\"><span class=\"circle\"></span><span>PlatON</span><span class=\"crypto-symbol\">LAT</span></a></td><td>$<!-- -->0.02</td><td colspan=\"100\"></td></tr><tr class=\"sc-240ce903-0 gaVAjX\"><td></td><td></td><td><a class=\"cmc-link\" href=\"/currencies/agoras-tokens/\"><span class=\"circle\"></span><span>Agoras: Currency of Tau</span><span class=\"crypto-symbol\">AGRS</span></a></td><td>$<!-- -->5.21</td><td colspan=\"100\"></td></tr><tr class=\"sc-240ce903-0 gaVAjX\"><td></td><td></td><td><a class=\"cmc-link\" href=\"/currencies/cortex/\"><span class=\"circle\"></span><span>Cortex</span><span class=\"crypto-symbol\">CTXC</span></a></td><td>$<!-- -->0.40</td><td colspan=\"100\"></td></tr><tr class=\"sc-240ce903-0 gaVAjX\"><td></td><td></td><td><a class=\"cmc-link\" href=\"/currencies/gaimin/\"><span class=\"circle\"></span><span>Gaimin</span><span class=\"crypto-symbol\">GMRX</span></a></td><td>$<!-- -->0.01</td><td colspan=\"100\"></td></tr><tr class=\"sc-240ce903-0 gaVAjX\"><td></td><td></td><td><a class=\"cmc-link\" href=\"/currencies/limewire/\"><span class=\"circle\"></span><span>LimeWire</span><span class=\"crypto-symbol\">LMWR</span></a></td><td>$<!-- -->1.32</td><td colspan=\"100\"></td></tr><tr class=\"sc-240ce903-0 gaVAjX\"><td></td><td></td><td><a class=\"cmc-link\" href=\"/currencies/forta/\"><span class=\"circle\"></span><span>Forta</span><span class=\"crypto-symbol\">FORT</span></a></td><td>$<!-- -->0.21</td><td colspan=\"100\"></td></tr><tr class=\"sc-240ce903-0 gaVAjX\"><td></td><td></td><td><a class=\"cmc-link\" href=\"/currencies/streamr/\"><span class=\"circle\"></span><span>Streamr</span><span class=\"crypto-symbol\">DATA</span></a></td><td>$<!-- -->0.08</td><td colspan=\"100\"></td></tr><tr class=\"sc-240ce903-0 gaVAjX\"><td></td><td></td><td><a class=\"cmc-link\" href=\"/currencies/zero1-labs/\"><span class=\"circle\"></span><span>Zero1 Labs</span><span class=\"crypto-symbol\">DEAI</span></a></td><td>$<!-- -->0.87</td><td colspan=\"100\"></td></tr><tr class=\"sc-240ce903-0 gaVAjX\"><td></td><td></td><td><a class=\"cmc-link\" href=\"/currencies/victoria-vr/\"><span class=\"circle\"></span><span>Victoria VR</span><span class=\"crypto-symbol\">VR</span></a></td><td>$<!-- -->0.03</td><td colspan=\"100\"></td></tr><tr class=\"sc-240ce903-0 gaVAjX\"><td></td><td></td><td><a class=\"cmc-link\" href=\"/currencies/numbers-protocol/\"><span class=\"circle\"></span><span>Numbers Protocol</span><span class=\"crypto-symbol\">NUM</span></a></td><td>$<!-- -->0.13</td><td colspan=\"100\"></td></tr><tr class=\"sc-240ce903-0 gaVAjX\"><td></td><td></td><td><a class=\"cmc-link\" href=\"/currencies/verasity/\"><span class=\"circle\"></span><span>Verasity</span><span class=\"crypto-symbol\">VRA</span></a></td><td>$<!-- -->0.01</td><td colspan=\"100\"></td></tr><tr class=\"sc-240ce903-0 gaVAjX\"><td></td><td></td><td><a class=\"cmc-link\" href=\"/currencies/alethea-artificial-liquid-intelligence-token/\"><span class=\"circle\"></span><span>Artificial Liquid Intelligence</span><span class=\"crypto-symbol\">ALI</span></a></td><td>$<!-- -->0.02</td><td colspan=\"100\"></td></tr><tr class=\"sc-240ce903-0 gaVAjX\"><td></td><td></td><td><a class=\"cmc-link\" href=\"/currencies/measurable-data-token/\"><span class=\"circle\"></span><span>Measurable Data Token</span><span class=\"crypto-symbol\">MDT</span></a></td><td>$<!-- -->0.11</td><td colspan=\"100\"></td></tr><tr class=\"sc-240ce903-0 gaVAjX\"><td></td><td></td><td><a class=\"cmc-link\" href=\"/currencies/dia/\"><span class=\"circle\"></span><span>DIA</span><span class=\"crypto-symbol\">DIA</span></a></td><td>$<!-- -->0.64</td><td colspan=\"100\"></td></tr><tr class=\"sc-240ce903-0 gaVAjX\"><td></td><td></td><td><a class=\"cmc-link\" href=\"/currencies/palm-ai/\"><span class=\"circle\"></span><span>PaLM AI</span><span class=\"crypto-symbol\">PALM</span></a></td><td>$<!-- -->0.87</td><td colspan=\"100\"></td></tr><tr class=\"sc-240ce903-0 gaVAjX\"><td></td><td></td><td><a class=\"cmc-link\" href=\"/currencies/singularitydao/\"><span class=\"circle\"></span><span>SingularityDAO</span><span class=\"crypto-symbol\">SDAO</span></a></td><td>$<!-- -->0.78</td><td colspan=\"100\"></td></tr><tr class=\"sc-240ce903-0 gaVAjX\"><td></td><td></td><td><a class=\"cmc-link\" href=\"/currencies/aleph-im/\"><span class=\"circle\"></span><span>Aleph.im</span><span class=\"crypto-symbol\">ALEPH</span></a></td><td>$<!-- -->0.25</td><td colspan=\"100\"></td></tr><tr class=\"sc-240ce903-0 gaVAjX\"><td></td><td></td><td><a class=\"cmc-link\" href=\"/currencies/botto/\"><span class=\"circle\"></span><span>Botto</span><span class=\"crypto-symbol\">BOTTO</span></a></td><td>$<!-- -->1.31</td><td colspan=\"100\"></td></tr><tr class=\"sc-240ce903-0 gaVAjX\"><td></td><td></td><td><a class=\"cmc-link\" href=\"/currencies/sentinel-protocol/\"><span class=\"circle\"></span><span>Sentinel Protocol</span><span class=\"crypto-symbol\">UPP</span></a></td><td>$<!-- -->0.11</td><td colspan=\"100\"></td></tr><tr class=\"sc-240ce903-0 gaVAjX\"><td></td><td></td><td><a class=\"cmc-link\" href=\"/currencies/turbo/\"><span class=\"circle\"></span><span>Turbo</span><span class=\"crypto-symbol\">TURBO</span></a></td><td>$<!-- -->0.00</td><td colspan=\"100\"></td></tr><tr class=\"sc-240ce903-0 gaVAjX\"><td></td><td></td><td><a class=\"cmc-link\" href=\"/currencies/selfkey/\"><span class=\"circle\"></span><span>SelfKey</span><span class=\"crypto-symbol\">KEY</span></a></td><td>$<!-- -->0.01</td><td colspan=\"100\"></td></tr><tr class=\"sc-240ce903-0 gaVAjX\"><td></td><td></td><td><a class=\"cmc-link\" href=\"/currencies/cere-network/\"><span class=\"circle\"></span><span>Cere Network</span><span class=\"crypto-symbol\">CERE</span></a></td><td>$<!-- -->0.01</td><td colspan=\"100\"></td></tr><tr class=\"sc-240ce903-0 gaVAjX\"><td></td><td></td><td><a class=\"cmc-link\" href=\"/currencies/hackenai/\"><span class=\"circle\"></span><span>Hacken Token</span><span class=\"crypto-symbol\">HAI</span></a></td><td>$<!-- -->0.08</td><td colspan=\"100\"></td></tr><tr class=\"sc-240ce903-0 gaVAjX\"><td></td><td></td><td><a class=\"cmc-link\" href=\"/currencies/only1/\"><span class=\"circle\"></span><span>Only1</span><span class=\"crypto-symbol\">LIKE</span></a></td><td>$<!-- -->0.18</td><td colspan=\"100\"></td></tr><tr class=\"sc-240ce903-0 gaVAjX\"><td></td><td></td><td><a class=\"cmc-link\" href=\"/currencies/lumerin/\"><span class=\"circle\"></span><span>Lumerin</span><span class=\"crypto-symbol\">LMR</span></a></td><td>$<!-- -->0.08</td><td colspan=\"100\"></td></tr><tr class=\"sc-240ce903-0 gaVAjX\"><td></td><td></td><td><a class=\"cmc-link\" href=\"/currencies/vectorspace-ai/\"><span class=\"circle\"></span><span>Vectorspace AI</span><span class=\"crypto-symbol\">VXV</span></a></td><td>$<!-- -->0.94</td><td colspan=\"100\"></td></tr><tr class=\"sc-240ce903-0 gaVAjX\"><td></td><td></td><td><a class=\"cmc-link\" href=\"/currencies/graphlinq-protocol/\"><span class=\"circle\"></span><span>Graphlinq Chain</span><span class=\"crypto-symbol\">GLQ</span></a></td><td>$<!-- -->0.14</td><td colspan=\"100\"></td></tr><tr class=\"sc-240ce903-0 gaVAjX\"><td></td><td></td><td><a class=\"cmc-link\" href=\"/currencies/ime-lab/\"><span class=\"circle\"></span><span>iMe Lab</span><span class=\"crypto-symbol\">LIME</span></a></td><td>$<!-- -->0.09</td><td colspan=\"100\"></td></tr><tr class=\"sc-240ce903-0 gaVAjX\"><td></td><td></td><td><a class=\"cmc-link\" href=\"/currencies/parsiq/\"><span class=\"circle\"></span><span>PARSIQ</span><span class=\"crypto-symbol\">PRQ</span></a></td><td>$<!-- -->0.19</td><td colspan=\"100\"></td></tr><tr class=\"sc-240ce903-0 gaVAjX\"><td></td><td></td><td><a class=\"cmc-link\" href=\"/currencies/dock/\"><span class=\"circle\"></span><span>Dock</span><span class=\"crypto-symbol\">DOCK</span></a></td><td>$<!-- -->0.04</td><td colspan=\"100\"></td></tr><tr class=\"sc-240ce903-0 gaVAjX\"><td></td><td></td><td><a class=\"cmc-link\" href=\"/currencies/vidt-dao/\"><span class=\"circle\"></span><span>VIDT DAO</span><span class=\"crypto-symbol\">VIDT</span></a></td><td>$<!-- -->0.05</td><td colspan=\"100\"></td></tr><tr class=\"sc-240ce903-0 gaVAjX\"><td></td><td></td><td><a class=\"cmc-link\" href=\"/currencies/synesis-one/\"><span class=\"circle\"></span><span>Synesis One</span><span class=\"crypto-symbol\">SNS</span></a></td><td>$<!-- -->0.08</td><td colspan=\"100\"></td></tr><tr class=\"sc-240ce903-0 gaVAjX\"><td></td><td></td><td><a class=\"cmc-link\" href=\"/currencies/ait-protocol/\"><span class=\"circle\"></span><span>AIT Protocol</span><span class=\"crypto-symbol\">AIT</span></a></td><td>$<!-- -->0.48</td><td colspan=\"100\"></td></tr><tr class=\"sc-240ce903-0 gaVAjX\"><td></td><td></td><td><a class=\"cmc-link\" href=\"/currencies/oortech/\"><span class=\"circle\"></span><span>OORT</span><span class=\"crypto-symbol\">OORT</span></a></td><td>$<!-- -->0.49</td><td colspan=\"100\"></td></tr><tr class=\"sc-240ce903-0 gaVAjX\"><td></td><td></td><td><a class=\"cmc-link\" href=\"/currencies/nunet/\"><span class=\"circle\"></span><span>NuNet</span><span class=\"crypto-symbol\">NTX</span></a></td><td>$<!-- -->0.07</td><td colspan=\"100\"></td></tr><tr class=\"sc-240ce903-0 gaVAjX\"><td></td><td></td><td><a class=\"cmc-link\" href=\"/currencies/duel/\"><span class=\"circle\"></span><span>GameGPT</span><span class=\"crypto-symbol\">DUEL</span></a></td><td>$<!-- -->0.02</td><td colspan=\"100\"></td></tr><tr class=\"sc-240ce903-0 gaVAjX\"><td></td><td></td><td><a class=\"cmc-link\" href=\"/currencies/volt-inu-v2/\"><span class=\"circle\"></span><span>Volt Inu</span><span class=\"crypto-symbol\">VOLT</span></a></td><td>$<!-- -->0.00</td><td colspan=\"100\"></td></tr><tr class=\"sc-240ce903-0 gaVAjX\"><td></td><td></td><td><a class=\"cmc-link\" href=\"/currencies/dexcheck/\"><span class=\"circle\"></span><span>DexCheck AI</span><span class=\"crypto-symbol\">DCK</span></a></td><td>$<!-- -->0.09</td><td colspan=\"100\"></td></tr><tr class=\"sc-240ce903-0 gaVAjX\"><td></td><td></td><td><a class=\"cmc-link\" href=\"/currencies/optimus-ai/\"><span class=\"circle\"></span><span>Optimus AI</span><span class=\"crypto-symbol\">OPTI</span></a></td><td>$<!-- -->0.30</td><td colspan=\"100\"></td></tr><tr class=\"sc-240ce903-0 gaVAjX\"><td></td><td></td><td><a class=\"cmc-link\" href=\"/currencies/step-app/\"><span class=\"circle\"></span><span>Step App</span><span class=\"crypto-symbol\">FITFI</span></a></td><td>$<!-- -->0.01</td><td colspan=\"100\"></td></tr><tr class=\"sc-240ce903-0 gaVAjX\"><td></td><td></td><td><a class=\"cmc-link\" href=\"/currencies/openfabric-ai/\"><span class=\"circle\"></span><span>Openfabric AI</span><span class=\"crypto-symbol\">OFN</span></a></td><td>$<!-- -->0.48</td><td colspan=\"100\"></td></tr><tr class=\"sc-240ce903-0 gaVAjX\"><td></td><td></td><td><a class=\"cmc-link\" href=\"/currencies/deepbrain-chain/\"><span class=\"circle\"></span><span>DeepBrain Chain</span><span class=\"crypto-symbol\">DBC</span></a></td><td>$<!-- -->0.00</td><td colspan=\"100\"></td></tr><tr class=\"sc-240ce903-0 gaVAjX\"><td></td><td></td><td><a class=\"cmc-link\" href=\"/currencies/gt-protocol/\"><span class=\"circle\"></span><span>GT Protocol</span><span class=\"crypto-symbol\">GTAI</span></a></td><td>$<!-- -->3.10</td><td colspan=\"100\"></td></tr><tr class=\"sc-240ce903-0 gaVAjX\"><td></td><td></td><td><a class=\"cmc-link\" href=\"/currencies/trvl/\"><span class=\"circle\"></span><span>TRVL</span><span class=\"crypto-symbol\">TRVL</span></a></td><td>$<!-- -->0.08</td><td colspan=\"100\"></td></tr><tr class=\"sc-240ce903-0 gaVAjX\"><td></td><td></td><td><a class=\"cmc-link\" href=\"/currencies/atlas-navi/\"><span class=\"circle\"></span><span>Atlas Navi</span><span class=\"crypto-symbol\">NAVI</span></a></td><td>$<!-- -->0.42</td><td colspan=\"100\"></td></tr><tr class=\"sc-240ce903-0 gaVAjX\"><td></td><td></td><td><a class=\"cmc-link\" href=\"/currencies/swash/\"><span class=\"circle\"></span><span>Swash</span><span class=\"crypto-symbol\">SWASH</span></a></td><td>$<!-- -->0.02</td><td colspan=\"100\"></td></tr><tr class=\"sc-240ce903-0 gaVAjX\"><td></td><td></td><td><a class=\"cmc-link\" href=\"/currencies/image-generation-ai/\"><span class=\"circle\"></span><span>Image Generation AI</span><span class=\"crypto-symbol\">IMGNAI</span></a></td><td>$<!-- -->0.03</td><td colspan=\"100\"></td></tr><tr class=\"sc-240ce903-0 gaVAjX\"><td></td><td></td><td><a class=\"cmc-link\" href=\"/currencies/phantasma/\"><span class=\"circle\"></span><span>Phantasma</span><span class=\"crypto-symbol\">SOUL</span></a></td><td>$<!-- -->0.15</td><td colspan=\"100\"></td></tr><tr class=\"sc-240ce903-0 gaVAjX\"><td></td><td></td><td><a class=\"cmc-link\" href=\"/currencies/matrix-ai-network/\"><span class=\"circle\"></span><span>Matrix AI Network</span><span class=\"crypto-symbol\">MAN</span></a></td><td>$<!-- -->0.04</td><td colspan=\"100\"></td></tr><tr class=\"sc-240ce903-0 gaVAjX\"><td></td><td></td><td><a class=\"cmc-link\" href=\"/currencies/aipad/\"><span class=\"circle\"></span><span>AIPAD</span><span class=\"crypto-symbol\">AIPAD</span></a></td><td>$<!-- -->0.15</td><td colspan=\"100\"></td></tr><tr class=\"sc-240ce903-0 gaVAjX\"><td></td><td></td><td><a class=\"cmc-link\" href=\"/currencies/bridge-oracle/\"><span class=\"circle\"></span><span>Bridge Oracle</span><span class=\"crypto-symbol\">BRG</span></a></td><td>$<!-- -->0.00</td><td colspan=\"100\"></td></tr><tr class=\"sc-240ce903-0 gaVAjX\"><td></td><td></td><td><a class=\"cmc-link\" href=\"/currencies/lush-ai/\"><span class=\"circle\"></span><span>Lush AI</span><span class=\"crypto-symbol\">LUSH</span></a></td><td>$<!-- -->0.00</td><td colspan=\"100\"></td></tr><tr class=\"sc-240ce903-0 gaVAjX\"><td></td><td></td><td><a class=\"cmc-link\" href=\"/currencies/robonomics-network/\"><span class=\"circle\"></span><span>Robonomics.network</span><span class=\"crypto-symbol\">XRT</span></a></td><td>$<!-- -->8.59</td><td colspan=\"100\"></td></tr><tr class=\"sc-240ce903-0 gaVAjX\"><td></td><td></td><td><a class=\"cmc-link\" href=\"/currencies/pibble/\"><span class=\"circle\"></span><span>PIBBLE</span><span class=\"crypto-symbol\">PIB</span></a></td><td>$<!-- -->0.00</td><td colspan=\"100\"></td></tr><tr class=\"sc-240ce903-0 gaVAjX\"><td></td><td></td><td><a class=\"cmc-link\" href=\"/currencies/big-data-protocol/\"><span class=\"circle\"></span><span>Big Data Protocol</span><span class=\"crypto-symbol\">BDP</span></a></td><td>$<!-- -->0.26</td><td colspan=\"100\"></td></tr><tr class=\"sc-240ce903-0 gaVAjX\"><td></td><td></td><td><a class=\"cmc-link\" href=\"/currencies/lambda/\"><span class=\"circle\"></span><span>Lambda</span><span class=\"crypto-symbol\">LAMB</span></a></td><td>$<!-- -->0.01</td><td colspan=\"100\"></td></tr><tr class=\"sc-240ce903-0 gaVAjX\"><td></td><td></td><td><a class=\"cmc-link\" href=\"/currencies/senate/\"><span class=\"circle\"></span><span>SENATE</span><span class=\"crypto-symbol\">SENATE</span></a></td><td>$<!-- -->0.12</td><td colspan=\"100\"></td></tr></tbody></table>]"
      ]
     },
     "execution_count": 6,
     "metadata": {},
     "output_type": "execute_result"
    }
   ],
   "source": [
    "tables = Soup.find_all('table')\n",
    "tables"
   ]
  },
  {
   "cell_type": "code",
   "execution_count": 7,
   "id": "6bea7e9f-dc41-4692-b2ab-08e956dbc93b",
   "metadata": {},
   "outputs": [
    {
     "data": {
      "text/plain": [
       "[<th class=\"stickyTop\"></th>,\n",
       " <th class=\"stickyTop\" style=\"text-align:start\"><div class=\"sc-77ac5b56-0 eKOoHe sortable-header-container\"><div class=\"sc-77ac5b56-1 jMGmXE\"><p class=\"sc-4984dd93-0 fiHcNM rank-column-title\" color=\"text\" data-sensors-click=\"true\" font-size=\"0\">#</p><span class=\"sc-77ac5b56-2 dLEXCr icon-wrapper\"><span class=\"icon-Caret-up\"></span></span></div></div></th>,\n",
       " <th class=\"stickyTop\" style=\"text-align:start\"><div class=\"sc-77ac5b56-0 eKOoHe sortable-header-container\"><div class=\"sc-77ac5b56-1 jMGmXE\"><p class=\"sc-4984dd93-0 fiHcNM\" color=\"text\" data-sensors-click=\"true\" font-size=\"0\">Name</p><span class=\"sc-77ac5b56-2 dLEXCr icon-wrapper\"></span></div></div></th>,\n",
       " <th class=\"stickyTop\" style=\"text-align:end\"><div class=\"sc-77ac5b56-0 gKYVgp sortable-header-container\"><div class=\"sc-77ac5b56-1 jMGmXE\"><span class=\"sc-77ac5b56-2 dLEXCr icon-wrapper\"></span><p class=\"sc-4984dd93-0 fiHcNM\" color=\"text\" data-sensors-click=\"true\" font-size=\"0\">Price</p></div></div></th>,\n",
       " <th class=\"stickyTop\" style=\"text-align:end\"><div class=\"sc-77ac5b56-0 gKYVgp sortable-header-container\"><div class=\"sc-77ac5b56-1 jMGmXE\"><span class=\"sc-77ac5b56-2 dLEXCr icon-wrapper\"></span><p class=\"sc-4984dd93-0 fiHcNM\" color=\"text\" data-sensors-click=\"true\" font-size=\"0\">1h %</p></div></div></th>,\n",
       " <th class=\"stickyTop\" style=\"text-align:end\"><div class=\"sc-77ac5b56-0 gKYVgp sortable-header-container\"><div class=\"sc-77ac5b56-1 jMGmXE\"><span class=\"sc-77ac5b56-2 dLEXCr icon-wrapper\"></span><p class=\"sc-4984dd93-0 fiHcNM\" color=\"text\" data-sensors-click=\"true\" font-size=\"0\">24h %</p></div></div></th>,\n",
       " <th class=\"stickyTop\" style=\"text-align:end\"><div class=\"sc-77ac5b56-0 gKYVgp sortable-header-container\"><div class=\"sc-77ac5b56-1 jMGmXE\"><span class=\"sc-77ac5b56-2 dLEXCr icon-wrapper\"></span><p class=\"sc-4984dd93-0 fiHcNM\" color=\"text\" data-sensors-click=\"true\" font-size=\"0\">7d %</p></div></div></th>,\n",
       " <th class=\"stickyTop\" style=\"text-align:end\"><div class=\"sc-77ac5b56-0 gKYVgp sortable-header-container\"><div class=\"sc-77ac5b56-1 jMGmXE\"><span class=\"sc-77ac5b56-2 dLEXCr icon-wrapper\"></span><p class=\"sc-4984dd93-0 fiHcNM\" color=\"text\" data-sensors-click=\"true\" font-size=\"0\">Market Cap</p></div><div class=\"sc-5d5d9567-2 gumfse\"><svg class=\"sc-aef7b723-0 qBTCi\" color=\"neutral4\" fill=\"currentColor\" height=\"16\" viewbox=\"0 0 24 24\" width=\"16\" xmlns=\"http://www.w3.org/2000/svg\"><path d=\"M12 2C6.48583 2 2 6.48583 2 12C2 17.5142 6.48583 22 12 22C17.5142 22 22 17.5142 22 12C22 6.48583 17.5142 2 12 2ZM14.215 17.2367C13.6642 17.4533 11.755 18.365 10.655 17.3958C10.3267 17.1075 10.1633 16.7417 10.1633 16.2975C10.1633 15.4658 10.4367 14.7408 10.9292 13C11.0158 12.6708 11.1217 12.2442 11.1217 11.9058C11.1217 11.3217 10.9 11.1667 10.2992 11.1667C10.0058 11.1667 9.68083 11.2708 9.38667 11.3808L9.54917 10.715C10.205 10.4483 11.0283 10.1233 11.7333 10.1233C12.7908 10.1233 13.5692 10.6508 13.5692 11.6542C13.5692 11.9433 13.5192 12.45 13.4142 12.8L12.8058 14.9517C12.68 15.3867 12.4525 16.3458 12.805 16.63C13.1517 16.9108 13.9725 16.7617 14.3775 16.5708L14.215 17.2367ZM13.21 8.66667C12.52 8.66667 11.96 8.10667 11.96 7.41667C11.96 6.72667 12.52 6.16667 13.21 6.16667C13.9 6.16667 14.46 6.72667 14.46 7.41667C14.46 8.10667 13.9 8.66667 13.21 8.66667Z\"></path></svg></div></div></th>,\n",
       " <th class=\"stickyTop\" style=\"text-align:end\"><div class=\"sc-77ac5b56-0 gKYVgp sortable-header-container\"><div class=\"sc-77ac5b56-1 jMGmXE\"><span class=\"sc-77ac5b56-2 dLEXCr icon-wrapper\"></span><p class=\"sc-4984dd93-0 fiHcNM\" color=\"text\" data-sensors-click=\"true\" font-size=\"0\">Volume(24h)</p></div><div class=\"sc-5d5d9567-2 gumfse\"><svg class=\"sc-aef7b723-0 qBTCi\" color=\"neutral4\" fill=\"currentColor\" height=\"16\" viewbox=\"0 0 24 24\" width=\"16\" xmlns=\"http://www.w3.org/2000/svg\"><path d=\"M12 2C6.48583 2 2 6.48583 2 12C2 17.5142 6.48583 22 12 22C17.5142 22 22 17.5142 22 12C22 6.48583 17.5142 2 12 2ZM14.215 17.2367C13.6642 17.4533 11.755 18.365 10.655 17.3958C10.3267 17.1075 10.1633 16.7417 10.1633 16.2975C10.1633 15.4658 10.4367 14.7408 10.9292 13C11.0158 12.6708 11.1217 12.2442 11.1217 11.9058C11.1217 11.3217 10.9 11.1667 10.2992 11.1667C10.0058 11.1667 9.68083 11.2708 9.38667 11.3808L9.54917 10.715C10.205 10.4483 11.0283 10.1233 11.7333 10.1233C12.7908 10.1233 13.5692 10.6508 13.5692 11.6542C13.5692 11.9433 13.5192 12.45 13.4142 12.8L12.8058 14.9517C12.68 15.3867 12.4525 16.3458 12.805 16.63C13.1517 16.9108 13.9725 16.7617 14.3775 16.5708L14.215 17.2367ZM13.21 8.66667C12.52 8.66667 11.96 8.10667 11.96 7.41667C11.96 6.72667 12.52 6.16667 13.21 6.16667C13.9 6.16667 14.46 6.72667 14.46 7.41667C14.46 8.10667 13.9 8.66667 13.21 8.66667Z\"></path></svg></div></div></th>,\n",
       " <th class=\"stickyTop\" style=\"text-align:end\"><div class=\"sc-77ac5b56-0 gKYVgp sortable-header-container\"><div class=\"sc-77ac5b56-1 jMGmXE\"><span class=\"sc-77ac5b56-2 dLEXCr icon-wrapper\"></span><p class=\"sc-4984dd93-0 fiHcNM\" color=\"text\" data-sensors-click=\"true\" font-size=\"0\">Circulating Supply</p></div><div class=\"sc-5d5d9567-2 gumfse\"><span class=\"icon-Info\"></span></div></div></th>,\n",
       " <th class=\"stickyTop\" style=\"text-align:end\"><p class=\"sc-4984dd93-0 jZrMxO\" color=\"text\" data-sensors-click=\"true\" font-size=\"1\" style=\"font-size:12px\">Last 7 Days</p></th>]"
      ]
     },
     "execution_count": 7,
     "metadata": {},
     "output_type": "execute_result"
    }
   ],
   "source": [
    "headers = Soup.find_all('th')\n",
    "headers"
   ]
  },
  {
   "cell_type": "code",
   "execution_count": 8,
   "id": "d2683876-3db0-4ee3-b750-f9e4015144de",
   "metadata": {},
   "outputs": [
    {
     "name": "stdout",
     "output_type": "stream",
     "text": [
      "['', '#', 'Name', 'Price', '1h %', '24h %', '7d %', 'Market Cap', 'Volume(24h)', 'Circulating Supply', 'Last 7 Days']\n"
     ]
    }
   ],
   "source": [
    "header = []\n",
    "\n",
    "for i in headers:\n",
    "    head = i.text\n",
    "    header.append(head)\n",
    "print(header)"
   ]
  },
  {
   "cell_type": "code",
   "execution_count": 9,
   "id": "2ac6066a-66b9-4322-ad34-9125aca1d781",
   "metadata": {},
   "outputs": [],
   "source": [
    "values = Soup.find_all('tr')"
   ]
  },
  {
   "cell_type": "code",
   "execution_count": 10,
   "id": "048a7526-76bf-4379-a1a2-7cd5e6648623",
   "metadata": {},
   "outputs": [
    {
     "name": "stdout",
     "output_type": "stream",
     "text": [
      "['#NamePrice1h %24h %7d %Market CapVolume(24h)Circulating SupplyLast 7 Days', '18NEAR ProtocolNEAR$7.232.11%3.44%8.54%$7.67B$7,666,897,106$471,434,35565,223,181 NEAR1,060,719,078 NEAR', '30BittensorTAO$623.687.40%2.13%6.20%$4.1B$4,101,288,846$94,869,564152,113 TAO6,575,949 TAO', '37RenderRNDR$9.361.09%0.21%1.22%$3.57B$3,572,656,451$169,039,88918,067,727 RNDR381,861,234 RNDR', '45The GraphGRT$0.32610.88%0.80%2.52%$3.08B$3,083,820,206$95,107,531291,664,062 GRT9,457,079,943 GRT', '46Theta NetworkTHETA$3.030.86%10.39%19.27%$3.03B$3,028,826,151$101,676,66233,569,659 THETA1,000,000,000 THETA', '52Fetch.aiFET$2.722.37%6.28%2.27%$2.3B$2,301,580,950$245,107,07090,094,124 FET845,993,215 FET', '82SingularityNETAGIX$1.081.09%3.67%0.68%$1.38B$1,380,085,650$119,366,137110,883,886 AGIX1,282,015,682 AGIX', '102Akash NetworkAKT$4.180.55%2.91%0.23%$975.17M$975,170,347$7,836,8271,873,849 AKT233,171,179 AKT', '108AIOZ NetworkAIOZ$0.79290.11%1.21%6.62%$860.92M$860,923,212$7,825,5839,869,272 AIOZ1,085,757,503 AIOZ', '110Oasis NetworkROSE$0.12530.44%0.23%2.79%$841.06M$841,060,435$36,221,713289,132,720 ROSE6,713,599,876 ROSE', 'Echelon PrimePRIME$22.37', 'Theta FuelTFUEL$0.12', 'Ocean ProtocolOCEAN$1.12', 'GolemGLM$0.52', 'OriginTrailTRAC$1.14', 'ArkhamARKM$2.02', 'FluxFLUX$1.10', 'PAAL AIPAAL$0.56', 'KadenaKDA$1.25', '0x0.ai0x0$0.36', 'ArcblockABT$2.72', 'iExec RLCRLC$3.46', 'RSS3RSS3$0.43', 'DelysiumAGI$0.34', 'NumeraireNMR$33.38', 'IQIQ$0.01', 'Sleepless AIAI$1.45', 'Node AIGPU$2.15', 'Hooked ProtocolHOOK$1.31', 'OraichainORAI$14.14', 'Phala NetworkPHA$0.25', 'CovalentCQT$0.26', 'NFPromptNFP$0.67', 'inSure DeFiSURE$0.01', 'ZignalyZIG$0.10', 'dKargoDKA$0.04', 'TokenFiTOKEN$0.14', 'ChainGPTCGPT$0.32', 'CUDOSCUDOS$0.02', 'Solidus Ai TechAITECH$0.22', 'PhoenixPHB$2.20', 'SIDUSSIDUS$0.01', 'VAIOTVAI$0.30', 'PlatONLAT$0.02', 'Agoras: Currency of TauAGRS$5.21', 'CortexCTXC$0.40', 'GaiminGMRX$0.01', 'LimeWireLMWR$1.32', 'FortaFORT$0.21', 'StreamrDATA$0.08', 'Zero1 LabsDEAI$0.87', 'Victoria VRVR$0.03', 'Numbers ProtocolNUM$0.13', 'VerasityVRA$0.01', 'Artificial Liquid IntelligenceALI$0.02', 'Measurable Data TokenMDT$0.11', 'DIADIA$0.64', 'PaLM AIPALM$0.87', 'SingularityDAOSDAO$0.78', 'Aleph.imALEPH$0.25', 'BottoBOTTO$1.31', 'Sentinel ProtocolUPP$0.11', 'TurboTURBO$0.00', 'SelfKeyKEY$0.01', 'Cere NetworkCERE$0.01', 'Hacken TokenHAI$0.08', 'Only1LIKE$0.18', 'LumerinLMR$0.08', 'Vectorspace AIVXV$0.94', 'Graphlinq ChainGLQ$0.14', 'iMe LabLIME$0.09', 'PARSIQPRQ$0.19', 'DockDOCK$0.04', 'VIDT DAOVIDT$0.05', 'Synesis OneSNS$0.08', 'AIT ProtocolAIT$0.48', 'OORTOORT$0.49', 'NuNetNTX$0.07', 'GameGPTDUEL$0.02', 'Volt InuVOLT$0.00', 'DexCheck AIDCK$0.09', 'Optimus AIOPTI$0.30', 'Step AppFITFI$0.01', 'Openfabric AIOFN$0.48', 'DeepBrain ChainDBC$0.00', 'GT ProtocolGTAI$3.10', 'TRVLTRVL$0.08', 'Atlas NaviNAVI$0.42', 'SwashSWASH$0.02', 'Image Generation AIIMGNAI$0.03', 'PhantasmaSOUL$0.15', 'Matrix AI NetworkMAN$0.04', 'AIPADAIPAD$0.15', 'Bridge OracleBRG$0.00', 'Lush AILUSH$0.00', 'Robonomics.networkXRT$8.59', 'PIBBLEPIB$0.00', 'Big Data ProtocolBDP$0.26', 'LambdaLAMB$0.01', 'SENATESENATE$0.12']\n"
     ]
    }
   ],
   "source": [
    "Values = []\n",
    "\n",
    "for i in values:\n",
    "    val = i.text\n",
    "    Values.append(val)\n",
    "print(Values)"
   ]
  },
  {
   "cell_type": "code",
   "execution_count": 14,
   "id": "606b2759-db9e-4d72-9957-0d01bc476ea4",
   "metadata": {},
   "outputs": [
    {
     "name": "stdout",
     "output_type": "stream",
     "text": [
      "['#NamePrice1h %24h %7d %Market CapVolume(24h)Circulating SupplyLast 7 Days', '20NEAR ProtocolNEAR$7.061.30%1.04%0.27%$7.48B$7,478,887,880$351,194,51449,768,896 NEAR1,059,857,078 NEAR', '33BittensorTAO$573.061.07%3.07%12.40%$3.76B$3,758,594,843$21,017,36936,676 TAO6,558,839 TAO', '36RenderRNDR$9.540.07%0.74%9.54%$3.64B$3,643,768,758$105,662,41211,073,255 RNDR381,861,234 RNDR', '44The GraphGRT$0.33090.19%2.41%13.55%$3.13B$3,129,081,181$74,902,770226,379,698 GRT9,457,066,158 GRT', '47Theta NetworkTHETA$2.640.03%0.53%13.84%$2.64B$2,640,145,838$28,171,97110,670,612 THETA1,000,000,000 THETA', '53Fetch.aiFET$2.670.70%0.45%11.38%$2.26B$2,260,288,272$169,836,92763,573,196 FET846,068,941 FET', '79SingularityNETAGIX$1.090.77%0.87%13.79%$1.39B$1,391,341,387$118,371,241108,852,830 AGIX1,279,461,513 AGIX', '102Akash NetworkAKT$4.150.54%5.69%11.49%$967.34M$967,338,639$7,917,7201,905,919 AKT232,853,547 AKT', '106Echelon PrimePRIME$25.470.46%3.87%14.94%$911.04M$911,044,118$6,759,619265,429 PRIME35,773,841 PRIME', '108AIOZ NetworkAIOZ$0.82630.02%4.45%10.17%$896.55M$896,553,993$5,490,9036,645,377 AIOZ1,085,056,481 AIOZ', 'Oasis NetworkROSE$0.13', 'Ocean ProtocolOCEAN$1.15', 'Theta FuelTFUEL$0.09', 'GolemGLM$0.55', 'ArkhamARKM$2.21', 'OriginTrailTRAC$1.09', 'FluxFLUX$1.12', 'PAAL AIPAAL$0.64', '0x0.ai0x0$0.38', 'ArcblockABT$2.79', 'RSS3RSS3$0.46', 'iExec RLCRLC$3.33', 'IQIQ$0.01', 'Node AIGPU$2.38', 'DelysiumAGI$0.32', 'Sleepless AIAI$1.51', 'NumeraireNMR$33.79', 'Phala NetworkPHA$0.27', 'Hooked ProtocolHOOK$1.36', 'CovalentCQT$0.27', 'NFPromptNFP$0.72', 'OraichainORAI$14.09', 'inSure DeFiSURE$0.01', 'TokenFiTOKEN$0.15', 'dKargoDKA$0.04', 'ChainGPTCGPT$0.31', 'ZignalyZIG$0.09', 'CUDOSCUDOS$0.02', 'Solidus Ai TechAITECH$0.23', 'PhoenixPHB$2.32', 'SIDUSSIDUS$0.01', 'GaiminGMRX$0.02', 'PlatONLAT$0.02', 'VAIOTVAI$0.31', 'Zero1 LabsDEAI$1.04', 'CortexCTXC$0.43', 'Artificial Liquid IntelligenceALI$0.03', 'Numbers ProtocolNUM$0.15', 'LimeWireLMWR$1.38', 'Agoras: Currency of TauAGRS$4.60', 'StreamrDATA$0.08', 'FortaFORT$0.21', 'Victoria VRVR$0.03', 'VerasityVRA$0.01', 'DIADIA$0.66', 'Measurable Data TokenMDT$0.11', 'PaLM AIPALM$0.90', 'BottoBOTTO$1.49', 'SingularityDAOSDAO$0.80', 'Only1LIKE$0.21', 'SelfKeyKEY$0.01', 'Sentinel ProtocolUPP$0.10', 'Cere NetworkCERE$0.01', 'Aleph.imALEPH$0.20', 'Hacken TokenHAI$0.07', 'TurboTURBO$0.00', 'Vectorspace AIVXV$0.91', 'Graphlinq ChainGLQ$0.13', 'iMe LabLIME$0.09', 'VIDT DAOVIDT$0.05', 'DockDOCK$0.05', 'GameGPTDUEL$0.03', 'PARSIQPRQ$0.18', 'NuNetNTX$0.07', 'Synesis OneSNS$0.08', 'DeepBrain ChainDBC$0.01', 'Volt InuVOLT$0.00', 'Optimus AIOPTI$0.30', 'Step AppFITFI$0.01', 'OORTOORT$0.61', 'Openfabric AIOFN$0.46', 'DexCheck AIDCK$0.07', 'GT ProtocolGTAI$3.24', 'TRVLTRVL$0.08', 'SwashSWASH$0.02', 'Atlas NaviNAVI$0.44', 'PhantasmaSOUL$0.16', 'Matrix AI NetworkMAN$0.04', 'Image Generation AIIMGNAI$0.02', 'AIPADAIPAD$0.16', 'LambdaLAMB$0.01', 'PIBBLEPIB$0.00', 'Big Data ProtocolBDP$0.25', 'UnMarshalMARSH$0.25', 'SENATESENATE$0.12', 'Robonomics.networkXRT$7.50', 'LosslessLSS$0.22', 'Lush AILUSH$0.00', 'IspolinkISP$0.00', 'Bridge OracleBRG$0.00']\n"
     ]
    }
   ],
   "source": [
    "Values = []\n",
    "\n",
    "for i in values:\n",
    "    val = i.text\n",
    "    Values.append(val)\n",
    "print(Values)"
   ]
  },
  {
   "cell_type": "code",
   "execution_count": 11,
   "id": "0a713cc2-de8b-4408-88d9-c7cf4193c7b0",
   "metadata": {},
   "outputs": [
    {
     "name": "stdout",
     "output_type": "stream",
     "text": [
      "              #                   Name    Price   1h %  24h %   7d %  \\\n",
      "0    None  None                   None     None   None   None   None   \n",
      "1            18      NEAR ProtocolNEAR    $7.23  2.11%  3.44%  8.54%   \n",
      "2            30           BittensorTAO  $623.68  7.40%  2.13%  6.20%   \n",
      "3            37             RenderRNDR    $9.36  1.09%  0.21%  1.22%   \n",
      "4            45           The GraphGRT  $0.3261  0.88%  0.80%  2.52%   \n",
      "..    ...   ...                    ...      ...    ...    ...    ...   \n",
      "96               Robonomics.networkXRT    $8.59          None   None   \n",
      "97                           PIBBLEPIB    $0.00          None   None   \n",
      "98                Big Data ProtocolBDP    $0.26          None   None   \n",
      "99                          LambdaLAMB    $0.01          None   None   \n",
      "100                       SENATESENATE    $0.12          None   None   \n",
      "\n",
      "               Market Cap                  Volume(24h)  Circulating Supply  \\\n",
      "0                    None                         None                None   \n",
      "1    $7.67B$7,666,897,106  $471,434,35565,223,181 NEAR  1,060,719,078 NEAR   \n",
      "2     $4.1B$4,101,288,846       $94,869,564152,113 TAO       6,575,949 TAO   \n",
      "3    $3.57B$3,572,656,451  $169,039,88918,067,727 RNDR    381,861,234 RNDR   \n",
      "4    $3.08B$3,083,820,206   $95,107,531291,664,062 GRT   9,457,079,943 GRT   \n",
      "..                    ...                          ...                 ...   \n",
      "96                   None                         None                None   \n",
      "97                   None                         None                None   \n",
      "98                   None                         None                None   \n",
      "99                   None                         None                None   \n",
      "100                  None                         None                None   \n",
      "\n",
      "    Last 7 Days  \n",
      "0          None  \n",
      "1                \n",
      "2                \n",
      "3                \n",
      "4                \n",
      "..          ...  \n",
      "96         None  \n",
      "97         None  \n",
      "98         None  \n",
      "99         None  \n",
      "100        None  \n",
      "\n",
      "[101 rows x 11 columns]\n"
     ]
    }
   ],
   "source": [
    "rows = Soup.find_all('tr')       \n",
    "values = []\n",
    "\n",
    "for row in rows:\n",
    "    val = [cell.text for cell in row.find_all('td')]\n",
    "    values.append(val)\n",
    "\n",
    "# Creating DataFrame with extracted values\n",
    "df = pd.DataFrame(values, columns=header)\n",
    "print(df)"
   ]
  },
  {
   "cell_type": "code",
   "execution_count": 12,
   "id": "cc6ba45d-fd43-44ee-b931-377a9d55ca91",
   "metadata": {},
   "outputs": [
    {
     "name": "stdout",
     "output_type": "stream",
     "text": [
      "              #                   Name    Price   1h %  24h %   7d %  \\\n",
      "0    None  None                   None     None   None   None   None   \n",
      "1            18      NEAR ProtocolNEAR    $7.23  2.11%  3.44%  8.54%   \n",
      "2            30           BittensorTAO  $623.68  7.40%  2.13%  6.20%   \n",
      "3            37             RenderRNDR    $9.36  1.09%  0.21%  1.22%   \n",
      "4            45           The GraphGRT  $0.3261  0.88%  0.80%  2.52%   \n",
      "..    ...   ...                    ...      ...    ...    ...    ...   \n",
      "96               Robonomics.networkXRT    $8.59          None   None   \n",
      "97                           PIBBLEPIB    $0.00          None   None   \n",
      "98                Big Data ProtocolBDP    $0.26          None   None   \n",
      "99                          LambdaLAMB    $0.01          None   None   \n",
      "100                       SENATESENATE    $0.12          None   None   \n",
      "\n",
      "               Market Cap                  Volume(24h)  Circulating Supply  \\\n",
      "0                    None                         None                None   \n",
      "1    $7.67B$7,666,897,106  $471,434,35565,223,181 NEAR  1,060,719,078 NEAR   \n",
      "2     $4.1B$4,101,288,846       $94,869,564152,113 TAO       6,575,949 TAO   \n",
      "3    $3.57B$3,572,656,451  $169,039,88918,067,727 RNDR    381,861,234 RNDR   \n",
      "4    $3.08B$3,083,820,206   $95,107,531291,664,062 GRT   9,457,079,943 GRT   \n",
      "..                    ...                          ...                 ...   \n",
      "96                   None                         None                None   \n",
      "97                   None                         None                None   \n",
      "98                   None                         None                None   \n",
      "99                   None                         None                None   \n",
      "100                  None                         None                None   \n",
      "\n",
      "    Last 7 Days                                         Image Link  \n",
      "0          None  https://s2.coinmarketcap.com/static/img/coins/...  \n",
      "1                https://s2.coinmarketcap.com/static/img/coins/...  \n",
      "2                https://s2.coinmarketcap.com/static/img/coins/...  \n",
      "3                https://s2.coinmarketcap.com/static/img/coins/...  \n",
      "4                https://s2.coinmarketcap.com/static/img/coins/...  \n",
      "..          ...                                                ...  \n",
      "96         None                                                     \n",
      "97         None                                                     \n",
      "98         None                                                     \n",
      "99         None                                                     \n",
      "100        None                                                     \n",
      "\n",
      "[101 rows x 12 columns]\n"
     ]
    }
   ],
   "source": [
    "img_tags = Soup.find_all('img', class_='coin-logo')\n",
    "\n",
    "links = [tag.get('src') for tag in img_tags]\n",
    "\n",
    "df['Image Link'] = ''  # Initialize the new column with empty strings\n",
    "\n",
    "# Iterate over the DataFrame index and update the 'Image Link' column\n",
    "for idx in df.index:\n",
    "    if idx < len(links):\n",
    "        df.at[idx, 'Image Link'] = links[idx]\n",
    "\n",
    "print(df)"
   ]
  },
  {
   "cell_type": "code",
   "execution_count": 13,
   "id": "b5b3bf42-0d22-4047-8061-0944e552aafb",
   "metadata": {},
   "outputs": [
    {
     "data": {
      "text/html": [
       "<div>\n",
       "<style scoped>\n",
       "    .dataframe tbody tr th:only-of-type {\n",
       "        vertical-align: middle;\n",
       "    }\n",
       "\n",
       "    .dataframe tbody tr th {\n",
       "        vertical-align: top;\n",
       "    }\n",
       "\n",
       "    .dataframe thead th {\n",
       "        text-align: right;\n",
       "    }\n",
       "</style>\n",
       "<table border=\"1\" class=\"dataframe\">\n",
       "  <thead>\n",
       "    <tr style=\"text-align: right;\">\n",
       "      <th></th>\n",
       "      <th></th>\n",
       "      <th>#</th>\n",
       "      <th>Name</th>\n",
       "      <th>Price</th>\n",
       "      <th>1h %</th>\n",
       "      <th>24h %</th>\n",
       "      <th>7d %</th>\n",
       "      <th>Market Cap</th>\n",
       "      <th>Volume(24h)</th>\n",
       "      <th>Circulating Supply</th>\n",
       "      <th>Last 7 Days</th>\n",
       "      <th>Image Link</th>\n",
       "    </tr>\n",
       "  </thead>\n",
       "  <tbody>\n",
       "    <tr>\n",
       "      <th>0</th>\n",
       "      <td>None</td>\n",
       "      <td>None</td>\n",
       "      <td>None</td>\n",
       "      <td>None</td>\n",
       "      <td>None</td>\n",
       "      <td>None</td>\n",
       "      <td>None</td>\n",
       "      <td>None</td>\n",
       "      <td>None</td>\n",
       "      <td>None</td>\n",
       "      <td>None</td>\n",
       "      <td>https://s2.coinmarketcap.com/static/img/coins/...</td>\n",
       "    </tr>\n",
       "    <tr>\n",
       "      <th>1</th>\n",
       "      <td></td>\n",
       "      <td>18</td>\n",
       "      <td>NEAR ProtocolNEAR</td>\n",
       "      <td>$7.23</td>\n",
       "      <td>2.11%</td>\n",
       "      <td>3.44%</td>\n",
       "      <td>8.54%</td>\n",
       "      <td>$7.67B$7,666,897,106</td>\n",
       "      <td>$471,434,35565,223,181 NEAR</td>\n",
       "      <td>1,060,719,078 NEAR</td>\n",
       "      <td></td>\n",
       "      <td>https://s2.coinmarketcap.com/static/img/coins/...</td>\n",
       "    </tr>\n",
       "    <tr>\n",
       "      <th>2</th>\n",
       "      <td></td>\n",
       "      <td>30</td>\n",
       "      <td>BittensorTAO</td>\n",
       "      <td>$623.68</td>\n",
       "      <td>7.40%</td>\n",
       "      <td>2.13%</td>\n",
       "      <td>6.20%</td>\n",
       "      <td>$4.1B$4,101,288,846</td>\n",
       "      <td>$94,869,564152,113 TAO</td>\n",
       "      <td>6,575,949 TAO</td>\n",
       "      <td></td>\n",
       "      <td>https://s2.coinmarketcap.com/static/img/coins/...</td>\n",
       "    </tr>\n",
       "    <tr>\n",
       "      <th>3</th>\n",
       "      <td></td>\n",
       "      <td>37</td>\n",
       "      <td>RenderRNDR</td>\n",
       "      <td>$9.36</td>\n",
       "      <td>1.09%</td>\n",
       "      <td>0.21%</td>\n",
       "      <td>1.22%</td>\n",
       "      <td>$3.57B$3,572,656,451</td>\n",
       "      <td>$169,039,88918,067,727 RNDR</td>\n",
       "      <td>381,861,234 RNDR</td>\n",
       "      <td></td>\n",
       "      <td>https://s2.coinmarketcap.com/static/img/coins/...</td>\n",
       "    </tr>\n",
       "    <tr>\n",
       "      <th>4</th>\n",
       "      <td></td>\n",
       "      <td>45</td>\n",
       "      <td>The GraphGRT</td>\n",
       "      <td>$0.3261</td>\n",
       "      <td>0.88%</td>\n",
       "      <td>0.80%</td>\n",
       "      <td>2.52%</td>\n",
       "      <td>$3.08B$3,083,820,206</td>\n",
       "      <td>$95,107,531291,664,062 GRT</td>\n",
       "      <td>9,457,079,943 GRT</td>\n",
       "      <td></td>\n",
       "      <td>https://s2.coinmarketcap.com/static/img/coins/...</td>\n",
       "    </tr>\n",
       "  </tbody>\n",
       "</table>\n",
       "</div>"
      ],
      "text/plain": [
       "            #               Name    Price   1h %  24h %   7d %  \\\n",
       "0  None  None               None     None   None   None   None   \n",
       "1          18  NEAR ProtocolNEAR    $7.23  2.11%  3.44%  8.54%   \n",
       "2          30       BittensorTAO  $623.68  7.40%  2.13%  6.20%   \n",
       "3          37         RenderRNDR    $9.36  1.09%  0.21%  1.22%   \n",
       "4          45       The GraphGRT  $0.3261  0.88%  0.80%  2.52%   \n",
       "\n",
       "             Market Cap                  Volume(24h)  Circulating Supply  \\\n",
       "0                  None                         None                None   \n",
       "1  $7.67B$7,666,897,106  $471,434,35565,223,181 NEAR  1,060,719,078 NEAR   \n",
       "2   $4.1B$4,101,288,846       $94,869,564152,113 TAO       6,575,949 TAO   \n",
       "3  $3.57B$3,572,656,451  $169,039,88918,067,727 RNDR    381,861,234 RNDR   \n",
       "4  $3.08B$3,083,820,206   $95,107,531291,664,062 GRT   9,457,079,943 GRT   \n",
       "\n",
       "  Last 7 Days                                         Image Link  \n",
       "0        None  https://s2.coinmarketcap.com/static/img/coins/...  \n",
       "1              https://s2.coinmarketcap.com/static/img/coins/...  \n",
       "2              https://s2.coinmarketcap.com/static/img/coins/...  \n",
       "3              https://s2.coinmarketcap.com/static/img/coins/...  \n",
       "4              https://s2.coinmarketcap.com/static/img/coins/...  "
      ]
     },
     "execution_count": 13,
     "metadata": {},
     "output_type": "execute_result"
    }
   ],
   "source": [
    "df.head(5)"
   ]
  },
  {
   "cell_type": "code",
   "execution_count": null,
   "id": "75470fd2-f73f-41d7-92d4-a82a4d5e7e0f",
   "metadata": {},
   "outputs": [],
   "source": [
    "time.sleep(600)"
   ]
  },
  {
   "cell_type": "code",
   "execution_count": null,
   "id": "cca39cf3-6a1f-416d-982e-beb7db48c6fc",
   "metadata": {},
   "outputs": [],
   "source": [
    "df['Narative'] = 'AI'"
   ]
  },
  {
   "cell_type": "code",
   "execution_count": null,
   "id": "67cc001a-9da0-410f-b033-3ad165e7ffda",
   "metadata": {},
   "outputs": [],
   "source": [
    "df.head(5)"
   ]
  },
  {
   "cell_type": "code",
   "execution_count": 20,
   "id": "1064468f-7e09-4608-a78c-6cf739e8f1cb",
   "metadata": {},
   "outputs": [],
   "source": [
    "df.to_csv('AI_crypto.csv', index=False)"
   ]
  },
  {
   "cell_type": "code",
   "execution_count": null,
   "id": "70d8607e-af3a-4182-a485-4649bc41ea04",
   "metadata": {},
   "outputs": [],
   "source": []
  }
 ],
 "metadata": {
  "kernelspec": {
   "display_name": "Python 3 (ipykernel)",
   "language": "python",
   "name": "python3"
  },
  "language_info": {
   "codemirror_mode": {
    "name": "ipython",
    "version": 3
   },
   "file_extension": ".py",
   "mimetype": "text/x-python",
   "name": "python",
   "nbconvert_exporter": "python",
   "pygments_lexer": "ipython3",
   "version": "3.11.7"
  }
 },
 "nbformat": 4,
 "nbformat_minor": 5
}
